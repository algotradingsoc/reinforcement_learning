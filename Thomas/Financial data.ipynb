{
 "cells": [
  {
   "cell_type": "code",
   "execution_count": 4,
   "metadata": {},
   "outputs": [
    {
     "ename": "ModuleNotFoundError",
     "evalue": "No module named 'arctic'",
     "output_type": "error",
     "traceback": [
      "\u001b[0;31m---------------------------------------------------------------------------\u001b[0m",
      "\u001b[0;31mModuleNotFoundError\u001b[0m                       Traceback (most recent call last)",
      "\u001b[0;32m<ipython-input-4-77fab7fea3f4>\u001b[0m in \u001b[0;36m<module>\u001b[0;34m\u001b[0m\n\u001b[0;32m----> 1\u001b[0;31m \u001b[0;32mfrom\u001b[0m \u001b[0marctic\u001b[0m \u001b[0;32mimport\u001b[0m \u001b[0mCHUNK_STORE\u001b[0m\u001b[0;34m,\u001b[0m \u001b[0mArctic\u001b[0m\u001b[0;34m\u001b[0m\u001b[0;34m\u001b[0m\u001b[0m\n\u001b[0m\u001b[1;32m      2\u001b[0m \u001b[0ma\u001b[0m \u001b[0;34m=\u001b[0m \u001b[0mArctic\u001b[0m\u001b[0;34m(\u001b[0m\u001b[0;34m'localhost'\u001b[0m\u001b[0;34m)\u001b[0m\u001b[0;34m\u001b[0m\u001b[0;34m\u001b[0m\u001b[0m\n\u001b[1;32m      3\u001b[0m \u001b[0mUS_Equity\u001b[0m \u001b[0;34m=\u001b[0m \u001b[0ma\u001b[0m\u001b[0;34m[\u001b[0m\u001b[0;34m'Alpaca_Equity_daily'\u001b[0m\u001b[0;34m]\u001b[0m\u001b[0;34m\u001b[0m\u001b[0;34m\u001b[0m\u001b[0m\n\u001b[1;32m      4\u001b[0m \u001b[0mUS_Equity2\u001b[0m \u001b[0;34m=\u001b[0m \u001b[0ma\u001b[0m\u001b[0;34m[\u001b[0m\u001b[0;34m'Alpaca_Equity_minute_new'\u001b[0m\u001b[0;34m]\u001b[0m\u001b[0;34m\u001b[0m\u001b[0;34m\u001b[0m\u001b[0m\n\u001b[1;32m      5\u001b[0m \u001b[0mUS_Futures\u001b[0m \u001b[0;34m=\u001b[0m \u001b[0ma\u001b[0m\u001b[0;34m[\u001b[0m\u001b[0;34m'Quandl_Futures_daily'\u001b[0m\u001b[0;34m]\u001b[0m\u001b[0;34m\u001b[0m\u001b[0;34m\u001b[0m\u001b[0m\n",
      "\u001b[0;31mModuleNotFoundError\u001b[0m: No module named 'arctic'"
     ]
    }
   ],
   "source": [
    "from arctic import CHUNK_STORE, Arctic\n",
    "a = Arctic('localhost')\n",
    "US_Equity = a['Alpaca_Equity_daily']\n",
    "US_Equity2 = a['Alpaca_Equity_minute_new']\n",
    "US_Futures = a['Quandl_Futures_daily']\n",
    "a.list_libraries()"
   ]
  },
  {
   "cell_type": "code",
   "execution_count": null,
   "metadata": {},
   "outputs": [],
   "source": []
  },
  {
   "cell_type": "code",
   "execution_count": 5,
   "metadata": {},
   "outputs": [],
   "source": [
    "import datetime, requests, os, json \n",
    "import pandas as pd \n",
    "import numpy as np\n",
    "\n",
    "## Quandl API \n",
    "import quandl \n",
    "quandl.ApiConfig.api_key = os.environ.get('QUANDL', 'He76uGCS7L-7s3dFZdpq')\n",
    "\n",
    "## Alapca API \n",
    "Alapca_API_key = os.environ.get('APCA_API_KEY_ID', 'PKU6K5NE2E4VBKSSJ0TR')\n",
    "Alapca_API_secret_key = os.environ.get('APCA_API_SECRET_KEY', '3kLHmYOR2Gj0LoFaANBnTqw3wObLkFZSsqZfguXI')\n",
    "\n",
    "## Alphavantage \n",
    "Alphavantage_API_keys = ['GNGP1GQIO85ZWC6','BFF8HXURRGSI4YH2']"
   ]
  },
  {
   "cell_type": "code",
   "execution_count": null,
   "metadata": {},
   "outputs": [],
   "source": []
  },
  {
   "cell_type": "code",
   "execution_count": 6,
   "metadata": {},
   "outputs": [],
   "source": [
    "def download_quandl_futures(symbol, startdate='1955-01-01', enddate=datetime.date.today()):\n",
    "    '''Returned Log price data from Quandl Futures with date as index.'''\n",
    "    price_df = quandl.get(symbol, start_date=startdate, end_date=enddate)\n",
    "    \n",
    "    if 'Last' in price_df.columns:\n",
    "        price_df['Close'] = price_df['Last']    \n",
    "    if 'Settle' in price_df.columns:\n",
    "        price_df['Close'] = price_df['Settle']\n",
    "    if 'Total Volume' in price_df.columns:\n",
    "        price_df['Volume'] = price_df['Total Volume']\n",
    "    if 'Prev. Day Open Interest' in price_df.columns:\n",
    "        price_df['Open Interest'] = price_df['Prev. Day Open Interest']\n",
    "    if 'Previous Day Open Interest' in price_df.columns:\n",
    "        price_df['Open Interest'] = price_df['Previous Day Open Interest']\n",
    "    if 'O.I.' in price_df.columns:\n",
    "        price_df['Open Interest'] = price_df['O.I.']\n",
    "    \n",
    "    price_df = price_df[['Open','High','Low','Close','Volume','Open Interest']]\n",
    "    price_df.columns = ['Open','High','Low','Close','Volume','Open Interest']\n",
    "    logdf = np.log(price_df) - np.log(price_df).shift(1)\n",
    "    logdf.index.name = 'Date'\n",
    "    logdf['date'] = logdf.index\n",
    "    return logdf.dropna()"
   ]
  },
  {
   "cell_type": "code",
   "execution_count": 7,
   "metadata": {},
   "outputs": [],
   "source": [
    "def download_quandl_symbols():\n",
    "    url = 'https://www.quandl.com/api/v3/databases/CHRIS/metadata?api_key={}'.format(quandl.ApiConfig.api_key)\n",
    "    df = pd.read_csv(url,compression='zip')\n",
    "    df['from_date'] = pd.to_datetime(df['from_date'])\n",
    "    df['to_date'] = pd.to_datetime(df['to_date'])\n",
    "    df['exchange'] = df['code'].str.split('_',expand=True)[0]\n",
    "    selected_exchanges = ['CME','ICE', 'EUREX', 'LIFFE', 'SHFE', 'CBOE']\n",
    "    df = df[ (df['to_date'] > datetime.datetime.now()-datetime.timedelta(days=14)) \n",
    "            & (df['from_date'] < datetime.datetime.now()-datetime.timedelta(days=7300))\n",
    "            & df['exchange'].isin(selected_exchanges) ]\n",
    "    df['code'] = 'CHRIS/' + df['code']\n",
    "    return df.sort_values('from_date')"
   ]
  },
  {
   "cell_type": "code",
   "execution_count": 8,
   "metadata": {},
   "outputs": [
    {
     "ename": "AuthenticationError",
     "evalue": "(Status 400) (Quandl Error QEAx01) We could not recognize your API key. Please check your API key and try again.",
     "output_type": "error",
     "traceback": [
      "\u001b[0;31m---------------------------------------------------------------------------\u001b[0m",
      "\u001b[0;31mAuthenticationError\u001b[0m                       Traceback (most recent call last)",
      "\u001b[0;32m<ipython-input-8-b005990c1e2e>\u001b[0m in \u001b[0;36m<module>\u001b[0;34m\u001b[0m\n\u001b[0;32m----> 1\u001b[0;31m \u001b[0mdownload_quandl_futures\u001b[0m\u001b[0;34m(\u001b[0m\u001b[0;34m'CHRIS/CME_ES1'\u001b[0m\u001b[0;34m)\u001b[0m\u001b[0;34m.\u001b[0m\u001b[0mset_index\u001b[0m\u001b[0;34m(\u001b[0m\u001b[0;34m'date'\u001b[0m\u001b[0;34m)\u001b[0m\u001b[0;34m\u001b[0m\u001b[0;34m\u001b[0m\u001b[0m\n\u001b[0m",
      "\u001b[0;32m<ipython-input-6-c2dfb1cb6667>\u001b[0m in \u001b[0;36mdownload_quandl_futures\u001b[0;34m(symbol, startdate, enddate)\u001b[0m\n\u001b[1;32m      1\u001b[0m \u001b[0;32mdef\u001b[0m \u001b[0mdownload_quandl_futures\u001b[0m\u001b[0;34m(\u001b[0m\u001b[0msymbol\u001b[0m\u001b[0;34m,\u001b[0m \u001b[0mstartdate\u001b[0m\u001b[0;34m=\u001b[0m\u001b[0;34m'1955-01-01'\u001b[0m\u001b[0;34m,\u001b[0m \u001b[0menddate\u001b[0m\u001b[0;34m=\u001b[0m\u001b[0mdatetime\u001b[0m\u001b[0;34m.\u001b[0m\u001b[0mdate\u001b[0m\u001b[0;34m.\u001b[0m\u001b[0mtoday\u001b[0m\u001b[0;34m(\u001b[0m\u001b[0;34m)\u001b[0m\u001b[0;34m)\u001b[0m\u001b[0;34m:\u001b[0m\u001b[0;34m\u001b[0m\u001b[0;34m\u001b[0m\u001b[0m\n\u001b[1;32m      2\u001b[0m     \u001b[0;34m'''Returned Log price data from Quandl Futures with date as index.'''\u001b[0m\u001b[0;34m\u001b[0m\u001b[0;34m\u001b[0m\u001b[0m\n\u001b[0;32m----> 3\u001b[0;31m     \u001b[0mprice_df\u001b[0m \u001b[0;34m=\u001b[0m \u001b[0mquandl\u001b[0m\u001b[0;34m.\u001b[0m\u001b[0mget\u001b[0m\u001b[0;34m(\u001b[0m\u001b[0msymbol\u001b[0m\u001b[0;34m,\u001b[0m \u001b[0mstart_date\u001b[0m\u001b[0;34m=\u001b[0m\u001b[0mstartdate\u001b[0m\u001b[0;34m,\u001b[0m \u001b[0mend_date\u001b[0m\u001b[0;34m=\u001b[0m\u001b[0menddate\u001b[0m\u001b[0;34m)\u001b[0m\u001b[0;34m\u001b[0m\u001b[0;34m\u001b[0m\u001b[0m\n\u001b[0m\u001b[1;32m      4\u001b[0m \u001b[0;34m\u001b[0m\u001b[0m\n\u001b[1;32m      5\u001b[0m     \u001b[0;32mif\u001b[0m \u001b[0;34m'Last'\u001b[0m \u001b[0;32min\u001b[0m \u001b[0mprice_df\u001b[0m\u001b[0;34m.\u001b[0m\u001b[0mcolumns\u001b[0m\u001b[0;34m:\u001b[0m\u001b[0;34m\u001b[0m\u001b[0;34m\u001b[0m\u001b[0m\n",
      "\u001b[0;32m~/anaconda3/lib/python3.8/site-packages/quandl/get.py\u001b[0m in \u001b[0;36mget\u001b[0;34m(dataset, **kwargs)\u001b[0m\n\u001b[1;32m     46\u001b[0m         \u001b[0;32mif\u001b[0m \u001b[0mdataset_args\u001b[0m\u001b[0;34m[\u001b[0m\u001b[0;34m'column_index'\u001b[0m\u001b[0;34m]\u001b[0m \u001b[0;32mis\u001b[0m \u001b[0;32mnot\u001b[0m \u001b[0;32mNone\u001b[0m\u001b[0;34m:\u001b[0m\u001b[0;34m\u001b[0m\u001b[0;34m\u001b[0m\u001b[0m\n\u001b[1;32m     47\u001b[0m             \u001b[0mkwargs\u001b[0m\u001b[0;34m.\u001b[0m\u001b[0mupdate\u001b[0m\u001b[0;34m(\u001b[0m\u001b[0;34m{\u001b[0m\u001b[0;34m'column_index'\u001b[0m\u001b[0;34m:\u001b[0m \u001b[0mdataset_args\u001b[0m\u001b[0;34m[\u001b[0m\u001b[0;34m'column_index'\u001b[0m\u001b[0;34m]\u001b[0m\u001b[0;34m}\u001b[0m\u001b[0;34m)\u001b[0m\u001b[0;34m\u001b[0m\u001b[0;34m\u001b[0m\u001b[0m\n\u001b[0;32m---> 48\u001b[0;31m         \u001b[0mdata\u001b[0m \u001b[0;34m=\u001b[0m \u001b[0mDataset\u001b[0m\u001b[0;34m(\u001b[0m\u001b[0mdataset_args\u001b[0m\u001b[0;34m[\u001b[0m\u001b[0;34m'code'\u001b[0m\u001b[0;34m]\u001b[0m\u001b[0;34m)\u001b[0m\u001b[0;34m.\u001b[0m\u001b[0mdata\u001b[0m\u001b[0;34m(\u001b[0m\u001b[0mparams\u001b[0m\u001b[0;34m=\u001b[0m\u001b[0mkwargs\u001b[0m\u001b[0;34m,\u001b[0m \u001b[0mhandle_column_not_found\u001b[0m\u001b[0;34m=\u001b[0m\u001b[0;32mTrue\u001b[0m\u001b[0;34m)\u001b[0m\u001b[0;34m\u001b[0m\u001b[0;34m\u001b[0m\u001b[0m\n\u001b[0m\u001b[1;32m     49\u001b[0m     \u001b[0;31m# Array\u001b[0m\u001b[0;34m\u001b[0m\u001b[0;34m\u001b[0m\u001b[0;34m\u001b[0m\u001b[0m\n\u001b[1;32m     50\u001b[0m     \u001b[0;32melif\u001b[0m \u001b[0misinstance\u001b[0m\u001b[0;34m(\u001b[0m\u001b[0mdataset\u001b[0m\u001b[0;34m,\u001b[0m \u001b[0mlist\u001b[0m\u001b[0;34m)\u001b[0m\u001b[0;34m:\u001b[0m\u001b[0;34m\u001b[0m\u001b[0;34m\u001b[0m\u001b[0m\n",
      "\u001b[0;32m~/anaconda3/lib/python3.8/site-packages/quandl/model/dataset.py\u001b[0m in \u001b[0;36mdata\u001b[0;34m(self, **options)\u001b[0m\n\u001b[1;32m     45\u001b[0m         \u001b[0mupdated_options\u001b[0m \u001b[0;34m=\u001b[0m \u001b[0mUtil\u001b[0m\u001b[0;34m.\u001b[0m\u001b[0mmerge_options\u001b[0m\u001b[0;34m(\u001b[0m\u001b[0;34m'params'\u001b[0m\u001b[0;34m,\u001b[0m \u001b[0mparams\u001b[0m\u001b[0;34m,\u001b[0m \u001b[0;34m**\u001b[0m\u001b[0moptions\u001b[0m\u001b[0;34m)\u001b[0m\u001b[0;34m\u001b[0m\u001b[0;34m\u001b[0m\u001b[0m\n\u001b[1;32m     46\u001b[0m         \u001b[0;32mtry\u001b[0m\u001b[0;34m:\u001b[0m\u001b[0;34m\u001b[0m\u001b[0;34m\u001b[0m\u001b[0m\n\u001b[0;32m---> 47\u001b[0;31m             \u001b[0;32mreturn\u001b[0m \u001b[0mData\u001b[0m\u001b[0;34m.\u001b[0m\u001b[0mall\u001b[0m\u001b[0;34m(\u001b[0m\u001b[0;34m**\u001b[0m\u001b[0mupdated_options\u001b[0m\u001b[0;34m)\u001b[0m\u001b[0;34m\u001b[0m\u001b[0;34m\u001b[0m\u001b[0m\n\u001b[0m\u001b[1;32m     48\u001b[0m         \u001b[0;32mexcept\u001b[0m \u001b[0mNotFoundError\u001b[0m\u001b[0;34m:\u001b[0m\u001b[0;34m\u001b[0m\u001b[0;34m\u001b[0m\u001b[0m\n\u001b[1;32m     49\u001b[0m             \u001b[0;32mif\u001b[0m \u001b[0mhandle_not_found_error\u001b[0m\u001b[0;34m:\u001b[0m\u001b[0;34m\u001b[0m\u001b[0;34m\u001b[0m\u001b[0m\n",
      "\u001b[0;32m~/anaconda3/lib/python3.8/site-packages/quandl/operations/list.py\u001b[0m in \u001b[0;36mall\u001b[0;34m(cls, **options)\u001b[0m\n\u001b[1;32m     13\u001b[0m             \u001b[0moptions\u001b[0m\u001b[0;34m[\u001b[0m\u001b[0;34m'params'\u001b[0m\u001b[0;34m]\u001b[0m \u001b[0;34m=\u001b[0m \u001b[0;34m{\u001b[0m\u001b[0;34m}\u001b[0m\u001b[0;34m\u001b[0m\u001b[0;34m\u001b[0m\u001b[0m\n\u001b[1;32m     14\u001b[0m         \u001b[0mpath\u001b[0m \u001b[0;34m=\u001b[0m \u001b[0mUtil\u001b[0m\u001b[0;34m.\u001b[0m\u001b[0mconstructed_path\u001b[0m\u001b[0;34m(\u001b[0m\u001b[0mcls\u001b[0m\u001b[0;34m.\u001b[0m\u001b[0mlist_path\u001b[0m\u001b[0;34m(\u001b[0m\u001b[0;34m)\u001b[0m\u001b[0;34m,\u001b[0m \u001b[0moptions\u001b[0m\u001b[0;34m[\u001b[0m\u001b[0;34m'params'\u001b[0m\u001b[0;34m]\u001b[0m\u001b[0;34m)\u001b[0m\u001b[0;34m\u001b[0m\u001b[0;34m\u001b[0m\u001b[0m\n\u001b[0;32m---> 15\u001b[0;31m         \u001b[0mr\u001b[0m \u001b[0;34m=\u001b[0m \u001b[0mConnection\u001b[0m\u001b[0;34m.\u001b[0m\u001b[0mrequest\u001b[0m\u001b[0;34m(\u001b[0m\u001b[0;34m'get'\u001b[0m\u001b[0;34m,\u001b[0m \u001b[0mpath\u001b[0m\u001b[0;34m,\u001b[0m \u001b[0;34m**\u001b[0m\u001b[0moptions\u001b[0m\u001b[0;34m)\u001b[0m\u001b[0;34m\u001b[0m\u001b[0;34m\u001b[0m\u001b[0m\n\u001b[0m\u001b[1;32m     16\u001b[0m         \u001b[0mresponse_data\u001b[0m \u001b[0;34m=\u001b[0m \u001b[0mr\u001b[0m\u001b[0;34m.\u001b[0m\u001b[0mjson\u001b[0m\u001b[0;34m(\u001b[0m\u001b[0;34m)\u001b[0m\u001b[0;34m\u001b[0m\u001b[0;34m\u001b[0m\u001b[0m\n\u001b[1;32m     17\u001b[0m         \u001b[0mUtil\u001b[0m\u001b[0;34m.\u001b[0m\u001b[0mconvert_to_dates\u001b[0m\u001b[0;34m(\u001b[0m\u001b[0mresponse_data\u001b[0m\u001b[0;34m)\u001b[0m\u001b[0;34m\u001b[0m\u001b[0;34m\u001b[0m\u001b[0m\n",
      "\u001b[0;32m~/anaconda3/lib/python3.8/site-packages/quandl/connection.py\u001b[0m in \u001b[0;36mrequest\u001b[0;34m(cls, http_verb, url, **options)\u001b[0m\n\u001b[1;32m     36\u001b[0m         \u001b[0mabs_url\u001b[0m \u001b[0;34m=\u001b[0m \u001b[0;34m'%s/%s'\u001b[0m \u001b[0;34m%\u001b[0m \u001b[0;34m(\u001b[0m\u001b[0mApiConfig\u001b[0m\u001b[0;34m.\u001b[0m\u001b[0mapi_base\u001b[0m\u001b[0;34m,\u001b[0m \u001b[0murl\u001b[0m\u001b[0;34m)\u001b[0m\u001b[0;34m\u001b[0m\u001b[0;34m\u001b[0m\u001b[0m\n\u001b[1;32m     37\u001b[0m \u001b[0;34m\u001b[0m\u001b[0m\n\u001b[0;32m---> 38\u001b[0;31m         \u001b[0;32mreturn\u001b[0m \u001b[0mcls\u001b[0m\u001b[0;34m.\u001b[0m\u001b[0mexecute_request\u001b[0m\u001b[0;34m(\u001b[0m\u001b[0mhttp_verb\u001b[0m\u001b[0;34m,\u001b[0m \u001b[0mabs_url\u001b[0m\u001b[0;34m,\u001b[0m \u001b[0;34m**\u001b[0m\u001b[0moptions\u001b[0m\u001b[0;34m)\u001b[0m\u001b[0;34m\u001b[0m\u001b[0;34m\u001b[0m\u001b[0m\n\u001b[0m\u001b[1;32m     39\u001b[0m \u001b[0;34m\u001b[0m\u001b[0m\n\u001b[1;32m     40\u001b[0m     \u001b[0;34m@\u001b[0m\u001b[0mclassmethod\u001b[0m\u001b[0;34m\u001b[0m\u001b[0;34m\u001b[0m\u001b[0m\n",
      "\u001b[0;32m~/anaconda3/lib/python3.8/site-packages/quandl/connection.py\u001b[0m in \u001b[0;36mexecute_request\u001b[0;34m(cls, http_verb, url, **options)\u001b[0m\n\u001b[1;32m     48\u001b[0m                                        **options)\n\u001b[1;32m     49\u001b[0m             \u001b[0;32mif\u001b[0m \u001b[0mresponse\u001b[0m\u001b[0;34m.\u001b[0m\u001b[0mstatus_code\u001b[0m \u001b[0;34m<\u001b[0m \u001b[0;36m200\u001b[0m \u001b[0;32mor\u001b[0m \u001b[0mresponse\u001b[0m\u001b[0;34m.\u001b[0m\u001b[0mstatus_code\u001b[0m \u001b[0;34m>=\u001b[0m \u001b[0;36m300\u001b[0m\u001b[0;34m:\u001b[0m\u001b[0;34m\u001b[0m\u001b[0;34m\u001b[0m\u001b[0m\n\u001b[0;32m---> 50\u001b[0;31m                 \u001b[0mcls\u001b[0m\u001b[0;34m.\u001b[0m\u001b[0mhandle_api_error\u001b[0m\u001b[0;34m(\u001b[0m\u001b[0mresponse\u001b[0m\u001b[0;34m)\u001b[0m\u001b[0;34m\u001b[0m\u001b[0;34m\u001b[0m\u001b[0m\n\u001b[0m\u001b[1;32m     51\u001b[0m             \u001b[0;32melse\u001b[0m\u001b[0;34m:\u001b[0m\u001b[0;34m\u001b[0m\u001b[0;34m\u001b[0m\u001b[0m\n\u001b[1;32m     52\u001b[0m                 \u001b[0;32mreturn\u001b[0m \u001b[0mresponse\u001b[0m\u001b[0;34m\u001b[0m\u001b[0;34m\u001b[0m\u001b[0m\n",
      "\u001b[0;32m~/anaconda3/lib/python3.8/site-packages/quandl/connection.py\u001b[0m in \u001b[0;36mhandle_api_error\u001b[0;34m(cls, resp)\u001b[0m\n\u001b[1;32m    112\u001b[0m         \u001b[0mklass\u001b[0m \u001b[0;34m=\u001b[0m \u001b[0md_klass\u001b[0m\u001b[0;34m.\u001b[0m\u001b[0mget\u001b[0m\u001b[0;34m(\u001b[0m\u001b[0mcode_letter\u001b[0m\u001b[0;34m,\u001b[0m \u001b[0mQuandlError\u001b[0m\u001b[0;34m)\u001b[0m\u001b[0;34m\u001b[0m\u001b[0;34m\u001b[0m\u001b[0m\n\u001b[1;32m    113\u001b[0m \u001b[0;34m\u001b[0m\u001b[0m\n\u001b[0;32m--> 114\u001b[0;31m         \u001b[0;32mraise\u001b[0m \u001b[0mklass\u001b[0m\u001b[0;34m(\u001b[0m\u001b[0mmessage\u001b[0m\u001b[0;34m,\u001b[0m \u001b[0mresp\u001b[0m\u001b[0;34m.\u001b[0m\u001b[0mstatus_code\u001b[0m\u001b[0;34m,\u001b[0m \u001b[0mresp\u001b[0m\u001b[0;34m.\u001b[0m\u001b[0mtext\u001b[0m\u001b[0;34m,\u001b[0m \u001b[0mresp\u001b[0m\u001b[0;34m.\u001b[0m\u001b[0mheaders\u001b[0m\u001b[0;34m,\u001b[0m \u001b[0mcode\u001b[0m\u001b[0;34m)\u001b[0m\u001b[0;34m\u001b[0m\u001b[0;34m\u001b[0m\u001b[0m\n\u001b[0m",
      "\u001b[0;31mAuthenticationError\u001b[0m: (Status 400) (Quandl Error QEAx01) We could not recognize your API key. Please check your API key and try again."
     ]
    }
   ],
   "source": [
    "download_quandl_futures('CHRIS/CME_ES1').set_index('date')"
   ]
  },
  {
   "cell_type": "code",
   "execution_count": 9,
   "metadata": {},
   "outputs": [
    {
     "ename": "HTTPError",
     "evalue": "HTTP Error 400: Bad Request",
     "output_type": "error",
     "traceback": [
      "\u001b[0;31m---------------------------------------------------------------------------\u001b[0m",
      "\u001b[0;31mHTTPError\u001b[0m                                 Traceback (most recent call last)",
      "\u001b[0;32m<ipython-input-9-60cee32fa218>\u001b[0m in \u001b[0;36m<module>\u001b[0;34m\u001b[0m\n\u001b[0;32m----> 1\u001b[0;31m \u001b[0mquandl_syms\u001b[0m \u001b[0;34m=\u001b[0m \u001b[0mdownload_quandl_symbols\u001b[0m\u001b[0;34m(\u001b[0m\u001b[0;34m)\u001b[0m\u001b[0;34m.\u001b[0m\u001b[0msort_values\u001b[0m\u001b[0;34m(\u001b[0m\u001b[0;34m'from_date'\u001b[0m\u001b[0;34m)\u001b[0m\u001b[0;34m.\u001b[0m\u001b[0mset_index\u001b[0m\u001b[0;34m(\u001b[0m\u001b[0;34m'code'\u001b[0m\u001b[0;34m)\u001b[0m\u001b[0;34m\u001b[0m\u001b[0;34m\u001b[0m\u001b[0m\n\u001b[0m",
      "\u001b[0;32m<ipython-input-7-c94cd0e0a64d>\u001b[0m in \u001b[0;36mdownload_quandl_symbols\u001b[0;34m()\u001b[0m\n\u001b[1;32m      1\u001b[0m \u001b[0;32mdef\u001b[0m \u001b[0mdownload_quandl_symbols\u001b[0m\u001b[0;34m(\u001b[0m\u001b[0;34m)\u001b[0m\u001b[0;34m:\u001b[0m\u001b[0;34m\u001b[0m\u001b[0;34m\u001b[0m\u001b[0m\n\u001b[1;32m      2\u001b[0m     \u001b[0murl\u001b[0m \u001b[0;34m=\u001b[0m \u001b[0;34m'https://www.quandl.com/api/v3/databases/CHRIS/metadata?api_key={}'\u001b[0m\u001b[0;34m.\u001b[0m\u001b[0mformat\u001b[0m\u001b[0;34m(\u001b[0m\u001b[0mquandl\u001b[0m\u001b[0;34m.\u001b[0m\u001b[0mApiConfig\u001b[0m\u001b[0;34m.\u001b[0m\u001b[0mapi_key\u001b[0m\u001b[0;34m)\u001b[0m\u001b[0;34m\u001b[0m\u001b[0;34m\u001b[0m\u001b[0m\n\u001b[0;32m----> 3\u001b[0;31m     \u001b[0mdf\u001b[0m \u001b[0;34m=\u001b[0m \u001b[0mpd\u001b[0m\u001b[0;34m.\u001b[0m\u001b[0mread_csv\u001b[0m\u001b[0;34m(\u001b[0m\u001b[0murl\u001b[0m\u001b[0;34m,\u001b[0m\u001b[0mcompression\u001b[0m\u001b[0;34m=\u001b[0m\u001b[0;34m'zip'\u001b[0m\u001b[0;34m)\u001b[0m\u001b[0;34m\u001b[0m\u001b[0;34m\u001b[0m\u001b[0m\n\u001b[0m\u001b[1;32m      4\u001b[0m     \u001b[0mdf\u001b[0m\u001b[0;34m[\u001b[0m\u001b[0;34m'from_date'\u001b[0m\u001b[0;34m]\u001b[0m \u001b[0;34m=\u001b[0m \u001b[0mpd\u001b[0m\u001b[0;34m.\u001b[0m\u001b[0mto_datetime\u001b[0m\u001b[0;34m(\u001b[0m\u001b[0mdf\u001b[0m\u001b[0;34m[\u001b[0m\u001b[0;34m'from_date'\u001b[0m\u001b[0;34m]\u001b[0m\u001b[0;34m)\u001b[0m\u001b[0;34m\u001b[0m\u001b[0;34m\u001b[0m\u001b[0m\n\u001b[1;32m      5\u001b[0m     \u001b[0mdf\u001b[0m\u001b[0;34m[\u001b[0m\u001b[0;34m'to_date'\u001b[0m\u001b[0;34m]\u001b[0m \u001b[0;34m=\u001b[0m \u001b[0mpd\u001b[0m\u001b[0;34m.\u001b[0m\u001b[0mto_datetime\u001b[0m\u001b[0;34m(\u001b[0m\u001b[0mdf\u001b[0m\u001b[0;34m[\u001b[0m\u001b[0;34m'to_date'\u001b[0m\u001b[0;34m]\u001b[0m\u001b[0;34m)\u001b[0m\u001b[0;34m\u001b[0m\u001b[0;34m\u001b[0m\u001b[0m\n",
      "\u001b[0;32m~/anaconda3/lib/python3.8/site-packages/pandas/io/parsers.py\u001b[0m in \u001b[0;36mparser_f\u001b[0;34m(filepath_or_buffer, sep, delimiter, header, names, index_col, usecols, squeeze, prefix, mangle_dupe_cols, dtype, engine, converters, true_values, false_values, skipinitialspace, skiprows, skipfooter, nrows, na_values, keep_default_na, na_filter, verbose, skip_blank_lines, parse_dates, infer_datetime_format, keep_date_col, date_parser, dayfirst, cache_dates, iterator, chunksize, compression, thousands, decimal, lineterminator, quotechar, quoting, doublequote, escapechar, comment, encoding, dialect, error_bad_lines, warn_bad_lines, delim_whitespace, low_memory, memory_map, float_precision)\u001b[0m\n\u001b[1;32m    674\u001b[0m         )\n\u001b[1;32m    675\u001b[0m \u001b[0;34m\u001b[0m\u001b[0m\n\u001b[0;32m--> 676\u001b[0;31m         \u001b[0;32mreturn\u001b[0m \u001b[0m_read\u001b[0m\u001b[0;34m(\u001b[0m\u001b[0mfilepath_or_buffer\u001b[0m\u001b[0;34m,\u001b[0m \u001b[0mkwds\u001b[0m\u001b[0;34m)\u001b[0m\u001b[0;34m\u001b[0m\u001b[0;34m\u001b[0m\u001b[0m\n\u001b[0m\u001b[1;32m    677\u001b[0m \u001b[0;34m\u001b[0m\u001b[0m\n\u001b[1;32m    678\u001b[0m     \u001b[0mparser_f\u001b[0m\u001b[0;34m.\u001b[0m\u001b[0m__name__\u001b[0m \u001b[0;34m=\u001b[0m \u001b[0mname\u001b[0m\u001b[0;34m\u001b[0m\u001b[0;34m\u001b[0m\u001b[0m\n",
      "\u001b[0;32m~/anaconda3/lib/python3.8/site-packages/pandas/io/parsers.py\u001b[0m in \u001b[0;36m_read\u001b[0;34m(filepath_or_buffer, kwds)\u001b[0m\n\u001b[1;32m    428\u001b[0m     \u001b[0;31m# though mypy handling of conditional imports is difficult.\u001b[0m\u001b[0;34m\u001b[0m\u001b[0;34m\u001b[0m\u001b[0;34m\u001b[0m\u001b[0m\n\u001b[1;32m    429\u001b[0m     \u001b[0;31m# See https://github.com/python/mypy/issues/1297\u001b[0m\u001b[0;34m\u001b[0m\u001b[0;34m\u001b[0m\u001b[0;34m\u001b[0m\u001b[0m\n\u001b[0;32m--> 430\u001b[0;31m     fp_or_buf, _, compression, should_close = get_filepath_or_buffer(\n\u001b[0m\u001b[1;32m    431\u001b[0m         \u001b[0mfilepath_or_buffer\u001b[0m\u001b[0;34m,\u001b[0m \u001b[0mencoding\u001b[0m\u001b[0;34m,\u001b[0m \u001b[0mcompression\u001b[0m\u001b[0;34m\u001b[0m\u001b[0;34m\u001b[0m\u001b[0m\n\u001b[1;32m    432\u001b[0m     )\n",
      "\u001b[0;32m~/anaconda3/lib/python3.8/site-packages/pandas/io/common.py\u001b[0m in \u001b[0;36mget_filepath_or_buffer\u001b[0;34m(filepath_or_buffer, encoding, compression, mode)\u001b[0m\n\u001b[1;32m    170\u001b[0m \u001b[0;34m\u001b[0m\u001b[0m\n\u001b[1;32m    171\u001b[0m     \u001b[0;32mif\u001b[0m \u001b[0misinstance\u001b[0m\u001b[0;34m(\u001b[0m\u001b[0mfilepath_or_buffer\u001b[0m\u001b[0;34m,\u001b[0m \u001b[0mstr\u001b[0m\u001b[0;34m)\u001b[0m \u001b[0;32mand\u001b[0m \u001b[0mis_url\u001b[0m\u001b[0;34m(\u001b[0m\u001b[0mfilepath_or_buffer\u001b[0m\u001b[0;34m)\u001b[0m\u001b[0;34m:\u001b[0m\u001b[0;34m\u001b[0m\u001b[0;34m\u001b[0m\u001b[0m\n\u001b[0;32m--> 172\u001b[0;31m         \u001b[0mreq\u001b[0m \u001b[0;34m=\u001b[0m \u001b[0murlopen\u001b[0m\u001b[0;34m(\u001b[0m\u001b[0mfilepath_or_buffer\u001b[0m\u001b[0;34m)\u001b[0m\u001b[0;34m\u001b[0m\u001b[0;34m\u001b[0m\u001b[0m\n\u001b[0m\u001b[1;32m    173\u001b[0m         \u001b[0mcontent_encoding\u001b[0m \u001b[0;34m=\u001b[0m \u001b[0mreq\u001b[0m\u001b[0;34m.\u001b[0m\u001b[0mheaders\u001b[0m\u001b[0;34m.\u001b[0m\u001b[0mget\u001b[0m\u001b[0;34m(\u001b[0m\u001b[0;34m\"Content-Encoding\"\u001b[0m\u001b[0;34m,\u001b[0m \u001b[0;32mNone\u001b[0m\u001b[0;34m)\u001b[0m\u001b[0;34m\u001b[0m\u001b[0;34m\u001b[0m\u001b[0m\n\u001b[1;32m    174\u001b[0m         \u001b[0;32mif\u001b[0m \u001b[0mcontent_encoding\u001b[0m \u001b[0;34m==\u001b[0m \u001b[0;34m\"gzip\"\u001b[0m\u001b[0;34m:\u001b[0m\u001b[0;34m\u001b[0m\u001b[0;34m\u001b[0m\u001b[0m\n",
      "\u001b[0;32m~/anaconda3/lib/python3.8/site-packages/pandas/io/common.py\u001b[0m in \u001b[0;36murlopen\u001b[0;34m(*args, **kwargs)\u001b[0m\n\u001b[1;32m    139\u001b[0m     \u001b[0;32mimport\u001b[0m \u001b[0murllib\u001b[0m\u001b[0;34m.\u001b[0m\u001b[0mrequest\u001b[0m\u001b[0;34m\u001b[0m\u001b[0;34m\u001b[0m\u001b[0m\n\u001b[1;32m    140\u001b[0m \u001b[0;34m\u001b[0m\u001b[0m\n\u001b[0;32m--> 141\u001b[0;31m     \u001b[0;32mreturn\u001b[0m \u001b[0murllib\u001b[0m\u001b[0;34m.\u001b[0m\u001b[0mrequest\u001b[0m\u001b[0;34m.\u001b[0m\u001b[0murlopen\u001b[0m\u001b[0;34m(\u001b[0m\u001b[0;34m*\u001b[0m\u001b[0margs\u001b[0m\u001b[0;34m,\u001b[0m \u001b[0;34m**\u001b[0m\u001b[0mkwargs\u001b[0m\u001b[0;34m)\u001b[0m\u001b[0;34m\u001b[0m\u001b[0;34m\u001b[0m\u001b[0m\n\u001b[0m\u001b[1;32m    142\u001b[0m \u001b[0;34m\u001b[0m\u001b[0m\n\u001b[1;32m    143\u001b[0m \u001b[0;34m\u001b[0m\u001b[0m\n",
      "\u001b[0;32m~/anaconda3/lib/python3.8/urllib/request.py\u001b[0m in \u001b[0;36murlopen\u001b[0;34m(url, data, timeout, cafile, capath, cadefault, context)\u001b[0m\n\u001b[1;32m    220\u001b[0m     \u001b[0;32melse\u001b[0m\u001b[0;34m:\u001b[0m\u001b[0;34m\u001b[0m\u001b[0;34m\u001b[0m\u001b[0m\n\u001b[1;32m    221\u001b[0m         \u001b[0mopener\u001b[0m \u001b[0;34m=\u001b[0m \u001b[0m_opener\u001b[0m\u001b[0;34m\u001b[0m\u001b[0;34m\u001b[0m\u001b[0m\n\u001b[0;32m--> 222\u001b[0;31m     \u001b[0;32mreturn\u001b[0m \u001b[0mopener\u001b[0m\u001b[0;34m.\u001b[0m\u001b[0mopen\u001b[0m\u001b[0;34m(\u001b[0m\u001b[0murl\u001b[0m\u001b[0;34m,\u001b[0m \u001b[0mdata\u001b[0m\u001b[0;34m,\u001b[0m \u001b[0mtimeout\u001b[0m\u001b[0;34m)\u001b[0m\u001b[0;34m\u001b[0m\u001b[0;34m\u001b[0m\u001b[0m\n\u001b[0m\u001b[1;32m    223\u001b[0m \u001b[0;34m\u001b[0m\u001b[0m\n\u001b[1;32m    224\u001b[0m \u001b[0;32mdef\u001b[0m \u001b[0minstall_opener\u001b[0m\u001b[0;34m(\u001b[0m\u001b[0mopener\u001b[0m\u001b[0;34m)\u001b[0m\u001b[0;34m:\u001b[0m\u001b[0;34m\u001b[0m\u001b[0;34m\u001b[0m\u001b[0m\n",
      "\u001b[0;32m~/anaconda3/lib/python3.8/urllib/request.py\u001b[0m in \u001b[0;36mopen\u001b[0;34m(self, fullurl, data, timeout)\u001b[0m\n\u001b[1;32m    529\u001b[0m         \u001b[0;32mfor\u001b[0m \u001b[0mprocessor\u001b[0m \u001b[0;32min\u001b[0m \u001b[0mself\u001b[0m\u001b[0;34m.\u001b[0m\u001b[0mprocess_response\u001b[0m\u001b[0;34m.\u001b[0m\u001b[0mget\u001b[0m\u001b[0;34m(\u001b[0m\u001b[0mprotocol\u001b[0m\u001b[0;34m,\u001b[0m \u001b[0;34m[\u001b[0m\u001b[0;34m]\u001b[0m\u001b[0;34m)\u001b[0m\u001b[0;34m:\u001b[0m\u001b[0;34m\u001b[0m\u001b[0;34m\u001b[0m\u001b[0m\n\u001b[1;32m    530\u001b[0m             \u001b[0mmeth\u001b[0m \u001b[0;34m=\u001b[0m \u001b[0mgetattr\u001b[0m\u001b[0;34m(\u001b[0m\u001b[0mprocessor\u001b[0m\u001b[0;34m,\u001b[0m \u001b[0mmeth_name\u001b[0m\u001b[0;34m)\u001b[0m\u001b[0;34m\u001b[0m\u001b[0;34m\u001b[0m\u001b[0m\n\u001b[0;32m--> 531\u001b[0;31m             \u001b[0mresponse\u001b[0m \u001b[0;34m=\u001b[0m \u001b[0mmeth\u001b[0m\u001b[0;34m(\u001b[0m\u001b[0mreq\u001b[0m\u001b[0;34m,\u001b[0m \u001b[0mresponse\u001b[0m\u001b[0;34m)\u001b[0m\u001b[0;34m\u001b[0m\u001b[0;34m\u001b[0m\u001b[0m\n\u001b[0m\u001b[1;32m    532\u001b[0m \u001b[0;34m\u001b[0m\u001b[0m\n\u001b[1;32m    533\u001b[0m         \u001b[0;32mreturn\u001b[0m \u001b[0mresponse\u001b[0m\u001b[0;34m\u001b[0m\u001b[0;34m\u001b[0m\u001b[0m\n",
      "\u001b[0;32m~/anaconda3/lib/python3.8/urllib/request.py\u001b[0m in \u001b[0;36mhttp_response\u001b[0;34m(self, request, response)\u001b[0m\n\u001b[1;32m    638\u001b[0m         \u001b[0;31m# request was successfully received, understood, and accepted.\u001b[0m\u001b[0;34m\u001b[0m\u001b[0;34m\u001b[0m\u001b[0;34m\u001b[0m\u001b[0m\n\u001b[1;32m    639\u001b[0m         \u001b[0;32mif\u001b[0m \u001b[0;32mnot\u001b[0m \u001b[0;34m(\u001b[0m\u001b[0;36m200\u001b[0m \u001b[0;34m<=\u001b[0m \u001b[0mcode\u001b[0m \u001b[0;34m<\u001b[0m \u001b[0;36m300\u001b[0m\u001b[0;34m)\u001b[0m\u001b[0;34m:\u001b[0m\u001b[0;34m\u001b[0m\u001b[0;34m\u001b[0m\u001b[0m\n\u001b[0;32m--> 640\u001b[0;31m             response = self.parent.error(\n\u001b[0m\u001b[1;32m    641\u001b[0m                 'http', request, response, code, msg, hdrs)\n\u001b[1;32m    642\u001b[0m \u001b[0;34m\u001b[0m\u001b[0m\n",
      "\u001b[0;32m~/anaconda3/lib/python3.8/urllib/request.py\u001b[0m in \u001b[0;36merror\u001b[0;34m(self, proto, *args)\u001b[0m\n\u001b[1;32m    567\u001b[0m         \u001b[0;32mif\u001b[0m \u001b[0mhttp_err\u001b[0m\u001b[0;34m:\u001b[0m\u001b[0;34m\u001b[0m\u001b[0;34m\u001b[0m\u001b[0m\n\u001b[1;32m    568\u001b[0m             \u001b[0margs\u001b[0m \u001b[0;34m=\u001b[0m \u001b[0;34m(\u001b[0m\u001b[0mdict\u001b[0m\u001b[0;34m,\u001b[0m \u001b[0;34m'default'\u001b[0m\u001b[0;34m,\u001b[0m \u001b[0;34m'http_error_default'\u001b[0m\u001b[0;34m)\u001b[0m \u001b[0;34m+\u001b[0m \u001b[0morig_args\u001b[0m\u001b[0;34m\u001b[0m\u001b[0;34m\u001b[0m\u001b[0m\n\u001b[0;32m--> 569\u001b[0;31m             \u001b[0;32mreturn\u001b[0m \u001b[0mself\u001b[0m\u001b[0;34m.\u001b[0m\u001b[0m_call_chain\u001b[0m\u001b[0;34m(\u001b[0m\u001b[0;34m*\u001b[0m\u001b[0margs\u001b[0m\u001b[0;34m)\u001b[0m\u001b[0;34m\u001b[0m\u001b[0;34m\u001b[0m\u001b[0m\n\u001b[0m\u001b[1;32m    570\u001b[0m \u001b[0;34m\u001b[0m\u001b[0m\n\u001b[1;32m    571\u001b[0m \u001b[0;31m# XXX probably also want an abstract factory that knows when it makes\u001b[0m\u001b[0;34m\u001b[0m\u001b[0;34m\u001b[0m\u001b[0;34m\u001b[0m\u001b[0m\n",
      "\u001b[0;32m~/anaconda3/lib/python3.8/urllib/request.py\u001b[0m in \u001b[0;36m_call_chain\u001b[0;34m(self, chain, kind, meth_name, *args)\u001b[0m\n\u001b[1;32m    500\u001b[0m         \u001b[0;32mfor\u001b[0m \u001b[0mhandler\u001b[0m \u001b[0;32min\u001b[0m \u001b[0mhandlers\u001b[0m\u001b[0;34m:\u001b[0m\u001b[0;34m\u001b[0m\u001b[0;34m\u001b[0m\u001b[0m\n\u001b[1;32m    501\u001b[0m             \u001b[0mfunc\u001b[0m \u001b[0;34m=\u001b[0m \u001b[0mgetattr\u001b[0m\u001b[0;34m(\u001b[0m\u001b[0mhandler\u001b[0m\u001b[0;34m,\u001b[0m \u001b[0mmeth_name\u001b[0m\u001b[0;34m)\u001b[0m\u001b[0;34m\u001b[0m\u001b[0;34m\u001b[0m\u001b[0m\n\u001b[0;32m--> 502\u001b[0;31m             \u001b[0mresult\u001b[0m \u001b[0;34m=\u001b[0m \u001b[0mfunc\u001b[0m\u001b[0;34m(\u001b[0m\u001b[0;34m*\u001b[0m\u001b[0margs\u001b[0m\u001b[0;34m)\u001b[0m\u001b[0;34m\u001b[0m\u001b[0;34m\u001b[0m\u001b[0m\n\u001b[0m\u001b[1;32m    503\u001b[0m             \u001b[0;32mif\u001b[0m \u001b[0mresult\u001b[0m \u001b[0;32mis\u001b[0m \u001b[0;32mnot\u001b[0m \u001b[0;32mNone\u001b[0m\u001b[0;34m:\u001b[0m\u001b[0;34m\u001b[0m\u001b[0;34m\u001b[0m\u001b[0m\n\u001b[1;32m    504\u001b[0m                 \u001b[0;32mreturn\u001b[0m \u001b[0mresult\u001b[0m\u001b[0;34m\u001b[0m\u001b[0;34m\u001b[0m\u001b[0m\n",
      "\u001b[0;32m~/anaconda3/lib/python3.8/urllib/request.py\u001b[0m in \u001b[0;36mhttp_error_default\u001b[0;34m(self, req, fp, code, msg, hdrs)\u001b[0m\n\u001b[1;32m    647\u001b[0m \u001b[0;32mclass\u001b[0m \u001b[0mHTTPDefaultErrorHandler\u001b[0m\u001b[0;34m(\u001b[0m\u001b[0mBaseHandler\u001b[0m\u001b[0;34m)\u001b[0m\u001b[0;34m:\u001b[0m\u001b[0;34m\u001b[0m\u001b[0;34m\u001b[0m\u001b[0m\n\u001b[1;32m    648\u001b[0m     \u001b[0;32mdef\u001b[0m \u001b[0mhttp_error_default\u001b[0m\u001b[0;34m(\u001b[0m\u001b[0mself\u001b[0m\u001b[0;34m,\u001b[0m \u001b[0mreq\u001b[0m\u001b[0;34m,\u001b[0m \u001b[0mfp\u001b[0m\u001b[0;34m,\u001b[0m \u001b[0mcode\u001b[0m\u001b[0;34m,\u001b[0m \u001b[0mmsg\u001b[0m\u001b[0;34m,\u001b[0m \u001b[0mhdrs\u001b[0m\u001b[0;34m)\u001b[0m\u001b[0;34m:\u001b[0m\u001b[0;34m\u001b[0m\u001b[0;34m\u001b[0m\u001b[0m\n\u001b[0;32m--> 649\u001b[0;31m         \u001b[0;32mraise\u001b[0m \u001b[0mHTTPError\u001b[0m\u001b[0;34m(\u001b[0m\u001b[0mreq\u001b[0m\u001b[0;34m.\u001b[0m\u001b[0mfull_url\u001b[0m\u001b[0;34m,\u001b[0m \u001b[0mcode\u001b[0m\u001b[0;34m,\u001b[0m \u001b[0mmsg\u001b[0m\u001b[0;34m,\u001b[0m \u001b[0mhdrs\u001b[0m\u001b[0;34m,\u001b[0m \u001b[0mfp\u001b[0m\u001b[0;34m)\u001b[0m\u001b[0;34m\u001b[0m\u001b[0;34m\u001b[0m\u001b[0m\n\u001b[0m\u001b[1;32m    650\u001b[0m \u001b[0;34m\u001b[0m\u001b[0m\n\u001b[1;32m    651\u001b[0m \u001b[0;32mclass\u001b[0m \u001b[0mHTTPRedirectHandler\u001b[0m\u001b[0;34m(\u001b[0m\u001b[0mBaseHandler\u001b[0m\u001b[0;34m)\u001b[0m\u001b[0;34m:\u001b[0m\u001b[0;34m\u001b[0m\u001b[0;34m\u001b[0m\u001b[0m\n",
      "\u001b[0;31mHTTPError\u001b[0m: HTTP Error 400: Bad Request"
     ]
    }
   ],
   "source": [
    "quandl_syms = download_quandl_symbols().sort_values('from_date').set_index('code')"
   ]
  },
  {
   "cell_type": "code",
   "execution_count": null,
   "metadata": {},
   "outputs": [],
   "source": []
  },
  {
   "cell_type": "code",
   "execution_count": null,
   "metadata": {},
   "outputs": [],
   "source": []
  },
  {
   "cell_type": "code",
   "execution_count": 478,
   "metadata": {},
   "outputs": [
    {
     "data": {
      "text/plain": [
       "{'CHRIS/LIFFE_FCE2', 'CHRIS/LIFFE_FCE3'}"
      ]
     },
     "execution_count": 478,
     "metadata": {},
     "output_type": "execute_result"
    }
   ],
   "source": [
    "set(quandl_syms.index) - set(US_Futures.list_symbols())"
   ]
  },
  {
   "cell_type": "code",
   "execution_count": 63,
   "metadata": {},
   "outputs": [],
   "source": [
    "## Download Alpaca price data \n",
    "\n",
    "def download_alpaca_data(ticker, timeframe='1D', start='2007-12-31T21:30:00-04:00', end=datetime.datetime.now()):\n",
    "    '''Returned Price data from Quandl Futures with date as index.'''\n",
    "    headers = {\n",
    "    'APCA-API-KEY-ID' : Alapca_API_key,\n",
    "    'APCA-API-SECRET-KEY': Alapca_API_secret_key,\n",
    "    }\n",
    "    response = requests.get('https://data.alpaca.markets/v1/bars/{}?symbols={}&start={}&end={}'.format(timeframe,ticker,start,end),headers=headers)\n",
    "    df = pd.DataFrame(json.loads(response.text)[ticker])\n",
    "    if timeframe == '1D':\n",
    "        df.index = [x.replace(hour=0,minute=0) for x in pd.to_datetime(df['t'],unit='s')]\n",
    "        df.index.name = 'Date'\n",
    "        df.columns = ['date','Open','High','Low','Close','Volume']\n",
    "    else:\n",
    "        df.index = [x for x in pd.to_datetime(df['t'],unit='s')]\n",
    "        df.index.name = 'Datetime'\n",
    "        df.columns = ['date','Open','High','Low','Close','Volume']\n",
    "    df.drop('date',axis=1,inplace=True)\n",
    "    logdf = np.log(df) - np.log(df).shift(1)\n",
    "    logdf['date'] = logdf.index\n",
    "    #return logdf.dropna()\n",
    "    return df"
   ]
  },
  {
   "cell_type": "code",
   "execution_count": 6,
   "metadata": {},
   "outputs": [],
   "source": [
    "def download_alpaca_assets():\n",
    "    url = 'https://paper-api.alpaca.markets/v2/assets'\n",
    "    headers = {\n",
    "    'APCA-API-KEY-ID' : Alapca_API_key,\n",
    "    'APCA-API-SECRET-KEY': Alapca_API_secret_key,\n",
    "    }\n",
    "    response = requests.get(url,headers=headers)\n",
    "    df = pd.DataFrame(response.json())\n",
    "    valid = df[(df['shortable']) ]\n",
    "    return valid"
   ]
  },
  {
   "cell_type": "code",
   "execution_count": 64,
   "metadata": {},
   "outputs": [
    {
     "data": {
      "text/html": [
       "<div>\n",
       "<style scoped>\n",
       "    .dataframe tbody tr th:only-of-type {\n",
       "        vertical-align: middle;\n",
       "    }\n",
       "\n",
       "    .dataframe tbody tr th {\n",
       "        vertical-align: top;\n",
       "    }\n",
       "\n",
       "    .dataframe thead th {\n",
       "        text-align: right;\n",
       "    }\n",
       "</style>\n",
       "<table border=\"1\" class=\"dataframe\">\n",
       "  <thead>\n",
       "    <tr style=\"text-align: right;\">\n",
       "      <th></th>\n",
       "      <th>id</th>\n",
       "      <th>class</th>\n",
       "      <th>exchange</th>\n",
       "      <th>symbol</th>\n",
       "      <th>name</th>\n",
       "      <th>status</th>\n",
       "      <th>tradable</th>\n",
       "      <th>marginable</th>\n",
       "      <th>shortable</th>\n",
       "      <th>easy_to_borrow</th>\n",
       "    </tr>\n",
       "  </thead>\n",
       "  <tbody>\n",
       "    <tr>\n",
       "      <th>0</th>\n",
       "      <td>e5c79337-c1ea-49bf-954e-d9be948d6bf3</td>\n",
       "      <td>us_equity</td>\n",
       "      <td>ARCA</td>\n",
       "      <td>AAAU</td>\n",
       "      <td>Perth Mint Physical Gold ETF (Trust)</td>\n",
       "      <td>active</td>\n",
       "      <td>True</td>\n",
       "      <td>True</td>\n",
       "      <td>True</td>\n",
       "      <td>True</td>\n",
       "    </tr>\n",
       "    <tr>\n",
       "      <th>6</th>\n",
       "      <td>54909c5f-c74f-47e8-8684-37f80bf73e9a</td>\n",
       "      <td>us_equity</td>\n",
       "      <td>AMEX</td>\n",
       "      <td>AAMC</td>\n",
       "      <td>Altisource Asset Mgmt Corp</td>\n",
       "      <td>active</td>\n",
       "      <td>True</td>\n",
       "      <td>True</td>\n",
       "      <td>True</td>\n",
       "      <td>True</td>\n",
       "    </tr>\n",
       "    <tr>\n",
       "      <th>9</th>\n",
       "      <td>d3ce6de3-13f1-4941-94e9-f9f54174e448</td>\n",
       "      <td>us_equity</td>\n",
       "      <td>NYSE</td>\n",
       "      <td>ACC</td>\n",
       "      <td>American Campus Communities, Inc.</td>\n",
       "      <td>active</td>\n",
       "      <td>True</td>\n",
       "      <td>True</td>\n",
       "      <td>True</td>\n",
       "      <td>True</td>\n",
       "    </tr>\n",
       "    <tr>\n",
       "      <th>10</th>\n",
       "      <td>681115d1-0667-442c-aa0b-c46e79ec5424</td>\n",
       "      <td>us_equity</td>\n",
       "      <td>NYSE</td>\n",
       "      <td>ACCO</td>\n",
       "      <td>Acco Brands Corporation</td>\n",
       "      <td>active</td>\n",
       "      <td>True</td>\n",
       "      <td>True</td>\n",
       "      <td>True</td>\n",
       "      <td>True</td>\n",
       "    </tr>\n",
       "    <tr>\n",
       "      <th>12</th>\n",
       "      <td>ca05c7af-bccb-4818-9c4f-3d1947b04cd9</td>\n",
       "      <td>us_equity</td>\n",
       "      <td>NYSE</td>\n",
       "      <td>ACEL</td>\n",
       "      <td>Accel Entertainment, Inc.</td>\n",
       "      <td>active</td>\n",
       "      <td>True</td>\n",
       "      <td>True</td>\n",
       "      <td>True</td>\n",
       "      <td>True</td>\n",
       "    </tr>\n",
       "    <tr>\n",
       "      <th>...</th>\n",
       "      <td>...</td>\n",
       "      <td>...</td>\n",
       "      <td>...</td>\n",
       "      <td>...</td>\n",
       "      <td>...</td>\n",
       "      <td>...</td>\n",
       "      <td>...</td>\n",
       "      <td>...</td>\n",
       "      <td>...</td>\n",
       "      <td>...</td>\n",
       "    </tr>\n",
       "    <tr>\n",
       "      <th>10270</th>\n",
       "      <td>e32589a7-fcc4-45ac-84d6-57d366fc04ce</td>\n",
       "      <td>us_equity</td>\n",
       "      <td>ARCA</td>\n",
       "      <td>BOND</td>\n",
       "      <td>PIMCO Active Bond Exchange-Traded Fund</td>\n",
       "      <td>active</td>\n",
       "      <td>True</td>\n",
       "      <td>True</td>\n",
       "      <td>True</td>\n",
       "      <td>True</td>\n",
       "    </tr>\n",
       "    <tr>\n",
       "      <th>10271</th>\n",
       "      <td>57c36644-876b-437c-b913-3cdb58b18fd3</td>\n",
       "      <td>us_equity</td>\n",
       "      <td>NYSE</td>\n",
       "      <td>GE</td>\n",
       "      <td>General Electric Company</td>\n",
       "      <td>active</td>\n",
       "      <td>True</td>\n",
       "      <td>True</td>\n",
       "      <td>True</td>\n",
       "      <td>True</td>\n",
       "    </tr>\n",
       "    <tr>\n",
       "      <th>10277</th>\n",
       "      <td>fd03066c-16d8-4eff-8c72-16ce1c44e38d</td>\n",
       "      <td>us_equity</td>\n",
       "      <td>NYSE</td>\n",
       "      <td>VALE</td>\n",
       "      <td>VALE S.A.</td>\n",
       "      <td>active</td>\n",
       "      <td>True</td>\n",
       "      <td>True</td>\n",
       "      <td>True</td>\n",
       "      <td>True</td>\n",
       "    </tr>\n",
       "    <tr>\n",
       "      <th>10279</th>\n",
       "      <td>b0b6dd9d-8b9b-48a9-ba46-b9d54906e415</td>\n",
       "      <td>us_equity</td>\n",
       "      <td>NASDAQ</td>\n",
       "      <td>AAPL</td>\n",
       "      <td>Apple Inc. Common Stock</td>\n",
       "      <td>active</td>\n",
       "      <td>True</td>\n",
       "      <td>True</td>\n",
       "      <td>True</td>\n",
       "      <td>True</td>\n",
       "    </tr>\n",
       "    <tr>\n",
       "      <th>10280</th>\n",
       "      <td>4ac5cb04-cfdb-4670-9637-662f8d08d9f8</td>\n",
       "      <td>us_equity</td>\n",
       "      <td>NYSE</td>\n",
       "      <td>BHP</td>\n",
       "      <td>BHP Group Limited American Depositary Shares (...</td>\n",
       "      <td>active</td>\n",
       "      <td>True</td>\n",
       "      <td>True</td>\n",
       "      <td>True</td>\n",
       "      <td>True</td>\n",
       "    </tr>\n",
       "  </tbody>\n",
       "</table>\n",
       "<p>4630 rows × 10 columns</p>\n",
       "</div>"
      ],
      "text/plain": [
       "                                         id      class exchange symbol  \\\n",
       "0      e5c79337-c1ea-49bf-954e-d9be948d6bf3  us_equity     ARCA   AAAU   \n",
       "6      54909c5f-c74f-47e8-8684-37f80bf73e9a  us_equity     AMEX   AAMC   \n",
       "9      d3ce6de3-13f1-4941-94e9-f9f54174e448  us_equity     NYSE    ACC   \n",
       "10     681115d1-0667-442c-aa0b-c46e79ec5424  us_equity     NYSE   ACCO   \n",
       "12     ca05c7af-bccb-4818-9c4f-3d1947b04cd9  us_equity     NYSE   ACEL   \n",
       "...                                     ...        ...      ...    ...   \n",
       "10270  e32589a7-fcc4-45ac-84d6-57d366fc04ce  us_equity     ARCA   BOND   \n",
       "10271  57c36644-876b-437c-b913-3cdb58b18fd3  us_equity     NYSE     GE   \n",
       "10277  fd03066c-16d8-4eff-8c72-16ce1c44e38d  us_equity     NYSE   VALE   \n",
       "10279  b0b6dd9d-8b9b-48a9-ba46-b9d54906e415  us_equity   NASDAQ   AAPL   \n",
       "10280  4ac5cb04-cfdb-4670-9637-662f8d08d9f8  us_equity     NYSE    BHP   \n",
       "\n",
       "                                                    name  status  tradable  \\\n",
       "0                   Perth Mint Physical Gold ETF (Trust)  active      True   \n",
       "6                             Altisource Asset Mgmt Corp  active      True   \n",
       "9                      American Campus Communities, Inc.  active      True   \n",
       "10                               Acco Brands Corporation  active      True   \n",
       "12                             Accel Entertainment, Inc.  active      True   \n",
       "...                                                  ...     ...       ...   \n",
       "10270             PIMCO Active Bond Exchange-Traded Fund  active      True   \n",
       "10271                           General Electric Company  active      True   \n",
       "10277                                          VALE S.A.  active      True   \n",
       "10279                            Apple Inc. Common Stock  active      True   \n",
       "10280  BHP Group Limited American Depositary Shares (...  active      True   \n",
       "\n",
       "       marginable  shortable  easy_to_borrow  \n",
       "0            True       True            True  \n",
       "6            True       True            True  \n",
       "9            True       True            True  \n",
       "10           True       True            True  \n",
       "12           True       True            True  \n",
       "...           ...        ...             ...  \n",
       "10270        True       True            True  \n",
       "10271        True       True            True  \n",
       "10277        True       True            True  \n",
       "10279        True       True            True  \n",
       "10280        True       True            True  \n",
       "\n",
       "[4630 rows x 10 columns]"
      ]
     },
     "execution_count": 64,
     "metadata": {},
     "output_type": "execute_result"
    }
   ],
   "source": [
    "download_alpaca_assets()"
   ]
  },
  {
   "cell_type": "code",
   "execution_count": 67,
   "metadata": {},
   "outputs": [],
   "source": [
    "differences = set(download_alpaca_assets()['symbol']) - set(US_Equity.list_symbols())"
   ]
  },
  {
   "cell_type": "code",
   "execution_count": 69,
   "metadata": {},
   "outputs": [
    {
     "data": {
      "text/plain": [
       "1194"
      ]
     },
     "execution_count": 69,
     "metadata": {},
     "output_type": "execute_result"
    }
   ],
   "source": [
    "len(differences)"
   ]
  },
  {
   "cell_type": "code",
   "execution_count": 168,
   "metadata": {},
   "outputs": [],
   "source": [
    "## Download Alphavantage data \n",
    "\n",
    "def download_alphavantage_data(ticker='QQQ',route='TIME_SERIES_DAILY_ADJUSTED',API_key=''):\n",
    "    df = pd.read_csv('https://www.alphavantage.co/query?function={}&symbol={}&apikey={}&datatype=csv&outputsize=full'.format(route,ticker,API_key))\n",
    "    logdf = df.copy()\n",
    "    logdf['Open'] = logdf['open'] / logdf['close']\n",
    "    logdf['High'] = logdf['high'] / logdf['close']\n",
    "    logdf['Low'] = logdf['low'] / logdf['close']\n",
    "    logdf['Close'] = np.log(df['adjusted_close']) - np.log(df['adjusted_close'].shift(-1))\n",
    "    logdf['Volume'] = np.log(df['volume']) - np.log(df['volume'].shift(-1))\n",
    "    logdf['date'] = pd.to_datetime(df['timestamp'])\n",
    "    logdf = logdf.dropna().sort_values('date')[['date','Open','High','Low','Close','Volume']]\n",
    "    logdf.index = logdf['date']\n",
    "    logdf.index.name = 'Date'\n",
    "    data = dict()\n",
    "    data['raw'] = df\n",
    "    data['log'] = logdf \n",
    "    \n",
    "    return data"
   ]
  },
  {
   "cell_type": "code",
   "execution_count": 169,
   "metadata": {},
   "outputs": [],
   "source": [
    "df = download_alphavantage_data(ticker='TSLA',API_key=Alphavantage_API_keys[0])['log']"
   ]
  },
  {
   "cell_type": "code",
   "execution_count": null,
   "metadata": {},
   "outputs": [],
   "source": []
  },
  {
   "cell_type": "code",
   "execution_count": 170,
   "metadata": {},
   "outputs": [
    {
     "name": "stderr",
     "output_type": "stream",
     "text": [
      "WARNING:arctic.chunkstore.chunkstore:Library created, but couldn't enable sharding: no such command: 'enablesharding', full error: {'ok': 0.0, 'errmsg': \"no such command: 'enablesharding'\", 'code': 59, 'codeName': 'CommandNotFound'}. This is OK if you're not 'admin'\n"
     ]
    }
   ],
   "source": [
    "a.delete_library('Alphavnatage_Equity_daily')\n",
    "a.initialize_library('Alphavnatage_Equity_daily', lib_type=CHUNK_STORE)\n",
    "Alpha = a['Alphavnatage_Equity_daily']"
   ]
  },
  {
   "cell_type": "code",
   "execution_count": 174,
   "metadata": {},
   "outputs": [],
   "source": [
    "Alpha.update('TSLA', df, chunk_range=df.index, upsert=True)\n",
    "Alpha.update('TSLA', df, chunk_range=df.index, upsert=True)\n",
    "Alpha.update('TSLA', df, chunk_range=df.index, upsert=True)"
   ]
  },
  {
   "cell_type": "code",
   "execution_count": 176,
   "metadata": {},
   "outputs": [],
   "source": [
    "newdf = Alpha.read('TSLA')"
   ]
  },
  {
   "cell_type": "code",
   "execution_count": 179,
   "metadata": {},
   "outputs": [
    {
     "data": {
      "text/plain": [
       "<matplotlib.axes._subplots.AxesSubplot at 0x7ff83c08f370>"
      ]
     },
     "execution_count": 179,
     "metadata": {},
     "output_type": "execute_result"
    },
    {
     "data": {
      "image/png": "[encoded data removed]",
      "text/plain": [
       "<Figure size 432x288 with 1 Axes>"
      ]
     },
     "metadata": {
      "needs_background": "light"
     },
     "output_type": "display_data"
    }
   ],
   "source": [
    "newdf['Close'].plot()"
   ]
  },
  {
   "cell_type": "code",
   "execution_count": 180,
   "metadata": {},
   "outputs": [
    {
     "data": {
      "text/html": [
       "<div>\n",
       "<style scoped>\n",
       "    .dataframe tbody tr th:only-of-type {\n",
       "        vertical-align: middle;\n",
       "    }\n",
       "\n",
       "    .dataframe tbody tr th {\n",
       "        vertical-align: top;\n",
       "    }\n",
       "\n",
       "    .dataframe thead th {\n",
       "        text-align: right;\n",
       "    }\n",
       "</style>\n",
       "<table border=\"1\" class=\"dataframe\">\n",
       "  <thead>\n",
       "    <tr style=\"text-align: right;\">\n",
       "      <th></th>\n",
       "      <th>date</th>\n",
       "      <th>Open</th>\n",
       "      <th>High</th>\n",
       "      <th>Low</th>\n",
       "      <th>Close</th>\n",
       "      <th>Volume</th>\n",
       "    </tr>\n",
       "    <tr>\n",
       "      <th>Date</th>\n",
       "      <th></th>\n",
       "      <th></th>\n",
       "      <th></th>\n",
       "      <th></th>\n",
       "      <th></th>\n",
       "      <th></th>\n",
       "    </tr>\n",
       "  </thead>\n",
       "  <tbody>\n",
       "    <tr>\n",
       "      <th>2010-06-30</th>\n",
       "      <td>2010-06-30</td>\n",
       "      <td>1.082249</td>\n",
       "      <td>1.276509</td>\n",
       "      <td>0.977759</td>\n",
       "      <td>-0.002515</td>\n",
       "      <td>-0.087904</td>\n",
       "    </tr>\n",
       "    <tr>\n",
       "      <th>2010-07-01</th>\n",
       "      <td>2010-07-01</td>\n",
       "      <td>1.138434</td>\n",
       "      <td>1.180328</td>\n",
       "      <td>0.923042</td>\n",
       "      <td>-0.081723</td>\n",
       "      <td>-0.737735</td>\n",
       "    </tr>\n",
       "    <tr>\n",
       "      <th>2010-07-02</th>\n",
       "      <td>2010-07-02</td>\n",
       "      <td>1.197917</td>\n",
       "      <td>1.203125</td>\n",
       "      <td>0.974479</td>\n",
       "      <td>-0.134312</td>\n",
       "      <td>-0.469410</td>\n",
       "    </tr>\n",
       "    <tr>\n",
       "      <th>2010-07-06</th>\n",
       "      <td>2010-07-06</td>\n",
       "      <td>1.241465</td>\n",
       "      <td>1.241465</td>\n",
       "      <td>0.982619</td>\n",
       "      <td>-0.175470</td>\n",
       "      <td>0.289699</td>\n",
       "    </tr>\n",
       "    <tr>\n",
       "      <th>2010-07-07</th>\n",
       "      <td>2010-07-07</td>\n",
       "      <td>1.037975</td>\n",
       "      <td>1.052532</td>\n",
       "      <td>0.948101</td>\n",
       "      <td>-0.019430</td>\n",
       "      <td>0.007949</td>\n",
       "    </tr>\n",
       "    <tr>\n",
       "      <th>...</th>\n",
       "      <td>...</td>\n",
       "      <td>...</td>\n",
       "      <td>...</td>\n",
       "      <td>...</td>\n",
       "      <td>...</td>\n",
       "      <td>...</td>\n",
       "    </tr>\n",
       "    <tr>\n",
       "      <th>2020-10-12</th>\n",
       "      <td>2020-10-12</td>\n",
       "      <td>0.999322</td>\n",
       "      <td>1.014560</td>\n",
       "      <td>0.991589</td>\n",
       "      <td>0.018944</td>\n",
       "      <td>0.293463</td>\n",
       "    </tr>\n",
       "    <tr>\n",
       "      <th>2020-10-13</th>\n",
       "      <td>2020-10-13</td>\n",
       "      <td>0.992612</td>\n",
       "      <td>1.005015</td>\n",
       "      <td>0.977499</td>\n",
       "      <td>0.009787</td>\n",
       "      <td>-0.118286</td>\n",
       "    </tr>\n",
       "    <tr>\n",
       "      <th>2020-10-14</th>\n",
       "      <td>2020-10-14</td>\n",
       "      <td>0.975027</td>\n",
       "      <td>1.009972</td>\n",
       "      <td>0.969759</td>\n",
       "      <td>0.032273</td>\n",
       "      <td>0.332241</td>\n",
       "    </tr>\n",
       "    <tr>\n",
       "      <th>2020-10-15</th>\n",
       "      <td>2020-10-15</td>\n",
       "      <td>1.003186</td>\n",
       "      <td>1.017132</td>\n",
       "      <td>0.985787</td>\n",
       "      <td>-0.027293</td>\n",
       "      <td>-0.297770</td>\n",
       "    </tr>\n",
       "    <tr>\n",
       "      <th>2020-10-16</th>\n",
       "      <td>2020-10-16</td>\n",
       "      <td>1.033593</td>\n",
       "      <td>1.037028</td>\n",
       "      <td>0.998135</td>\n",
       "      <td>-0.020731</td>\n",
       "      <td>-0.084683</td>\n",
       "    </tr>\n",
       "  </tbody>\n",
       "</table>\n",
       "<p>2594 rows × 6 columns</p>\n",
       "</div>"
      ],
      "text/plain": [
       "                 date      Open      High       Low     Close    Volume\n",
       "Date                                                                   \n",
       "2010-06-30 2010-06-30  1.082249  1.276509  0.977759 -0.002515 -0.087904\n",
       "2010-07-01 2010-07-01  1.138434  1.180328  0.923042 -0.081723 -0.737735\n",
       "2010-07-02 2010-07-02  1.197917  1.203125  0.974479 -0.134312 -0.469410\n",
       "2010-07-06 2010-07-06  1.241465  1.241465  0.982619 -0.175470  0.289699\n",
       "2010-07-07 2010-07-07  1.037975  1.052532  0.948101 -0.019430  0.007949\n",
       "...               ...       ...       ...       ...       ...       ...\n",
       "2020-10-12 2020-10-12  0.999322  1.014560  0.991589  0.018944  0.293463\n",
       "2020-10-13 2020-10-13  0.992612  1.005015  0.977499  0.009787 -0.118286\n",
       "2020-10-14 2020-10-14  0.975027  1.009972  0.969759  0.032273  0.332241\n",
       "2020-10-15 2020-10-15  1.003186  1.017132  0.985787 -0.027293 -0.297770\n",
       "2020-10-16 2020-10-16  1.033593  1.037028  0.998135 -0.020731 -0.084683\n",
       "\n",
       "[2594 rows x 6 columns]"
      ]
     },
     "execution_count": 180,
     "metadata": {},
     "output_type": "execute_result"
    }
   ],
   "source": [
    "newdf"
   ]
  },
  {
   "cell_type": "code",
   "execution_count": null,
   "metadata": {},
   "outputs": [],
   "source": []
  },
  {
   "cell_type": "code",
   "execution_count": null,
   "metadata": {},
   "outputs": [],
   "source": []
  },
  {
   "cell_type": "markdown",
   "metadata": {},
   "source": [
    "EEM and SLV has extreme price movement before 2009 need to find a better source? \n",
    "TSLA is not split adjusted"
   ]
  },
  {
   "cell_type": "code",
   "execution_count": 77,
   "metadata": {},
   "outputs": [],
   "source": [
    "df = download_alpaca_data('TSLA',)"
   ]
  },
  {
   "cell_type": "code",
   "execution_count": 78,
   "metadata": {},
   "outputs": [
    {
     "data": {
      "text/plain": [
       "<matplotlib.axes._subplots.AxesSubplot at 0x7ff81b5ec280>"
      ]
     },
     "execution_count": 78,
     "metadata": {},
     "output_type": "execute_result"
    },
    {
     "data": {
      "image/png": "[encoded data removed]",
      "text/plain": [
       "<Figure size 432x288 with 1 Axes>"
      ]
     },
     "metadata": {
      "needs_background": "light"
     },
     "output_type": "display_data"
    }
   ],
   "source": [
    "df['Open'].plot()"
   ]
  },
  {
   "cell_type": "code",
   "execution_count": null,
   "metadata": {},
   "outputs": [],
   "source": []
  },
  {
   "cell_type": "code",
   "execution_count": null,
   "metadata": {},
   "outputs": [],
   "source": []
  },
  {
   "cell_type": "code",
   "execution_count": null,
   "metadata": {},
   "outputs": [],
   "source": []
  },
  {
   "cell_type": "code",
   "execution_count": null,
   "metadata": {},
   "outputs": [],
   "source": [
    "from arctic import CHUNK_STORE, Arctic"
   ]
  },
  {
   "cell_type": "code",
   "execution_count": null,
   "metadata": {},
   "outputs": [],
   "source": [
    "a = Arctic('localhost')\n",
    "a.initialize_library('Sample', lib_type=CHUNK_STORE)\n",
    "Sample = a['Sample']\n",
    "df1 = download_alpaca_data('AAPL')"
   ]
  },
  {
   "cell_type": "code",
   "execution_count": null,
   "metadata": {},
   "outputs": [],
   "source": [
    "Sample.update('AAPL', df1, chunk_range=df1.index, upsert=True)"
   ]
  },
  {
   "cell_type": "code",
   "execution_count": null,
   "metadata": {},
   "outputs": [],
   "source": [
    "Sample.list_symbols()"
   ]
  },
  {
   "cell_type": "code",
   "execution_count": null,
   "metadata": {},
   "outputs": [],
   "source": [
    "Sample.read('AAPL').set_index('date').columns"
   ]
  },
  {
   "cell_type": "code",
   "execution_count": 441,
   "metadata": {},
   "outputs": [],
   "source": [
    "a.delete_library('Sample')"
   ]
  },
  {
   "cell_type": "code",
   "execution_count": null,
   "metadata": {},
   "outputs": [],
   "source": []
  },
  {
   "cell_type": "code",
   "execution_count": 52,
   "metadata": {},
   "outputs": [
    {
     "data": {
      "text/plain": [
       "<matplotlib.axes._subplots.AxesSubplot at 0x7ff81b26d550>"
      ]
     },
     "execution_count": 52,
     "metadata": {},
     "output_type": "execute_result"
    },
    {
     "data": {
      "image/png": "[encoded data removed]",
      "text/plain": [
       "<Figure size 432x288 with 1 Axes>"
      ]
     },
     "metadata": {
      "needs_background": "light"
     },
     "output_type": "display_data"
    }
   ],
   "source": [
    "US_Equity.read('GLD').set_index('date')['Open'].plot()"
   ]
  },
  {
   "cell_type": "code",
   "execution_count": 54,
   "metadata": {},
   "outputs": [
    {
     "data": {
      "text/plain": [
       "<matplotlib.axes._subplots.AxesSubplot at 0x7ff83c4155b0>"
      ]
     },
     "execution_count": 54,
     "metadata": {},
     "output_type": "execute_result"
    },
    {
     "data": {
      "image/png": "[encoded data removed]",
      "text/plain": [
       "<Figure size 432x288 with 1 Axes>"
      ]
     },
     "metadata": {
      "needs_background": "light"
     },
     "output_type": "display_data"
    }
   ],
   "source": [
    "US_Equity.read('EEM').set_index('date')['Open'].plot()"
   ]
  },
  {
   "cell_type": "code",
   "execution_count": 187,
   "metadata": {},
   "outputs": [
    {
     "data": {
      "text/plain": [
       "['CHRIS/CME_AD1',\n",
       " 'CHRIS/CME_B31',\n",
       " 'CHRIS/CME_BO1',\n",
       " 'CHRIS/CME_BP1',\n",
       " 'CHRIS/CME_C1',\n",
       " 'CHRIS/CME_CD1',\n",
       " 'CHRIS/CME_CL1',\n",
       " 'CHRIS/CME_CL11',\n",
       " 'CHRIS/CME_CL21',\n",
       " 'CHRIS/CME_CL31',\n",
       " 'CHRIS/CME_EC1',\n",
       " 'CHRIS/CME_ED1',\n",
       " 'CHRIS/CME_ED11',\n",
       " 'CHRIS/CME_ED21',\n",
       " 'CHRIS/CME_ED31',\n",
       " 'CHRIS/CME_ES1',\n",
       " 'CHRIS/CME_FC1',\n",
       " 'CHRIS/CME_FF1',\n",
       " 'CHRIS/CME_FF11',\n",
       " 'CHRIS/CME_FF21',\n",
       " 'CHRIS/CME_FV1',\n",
       " 'CHRIS/CME_GC1',\n",
       " 'CHRIS/CME_HG1',\n",
       " 'CHRIS/CME_HG11',\n",
       " 'CHRIS/CME_HO1',\n",
       " 'CHRIS/CME_HO11',\n",
       " 'CHRIS/CME_JY1',\n",
       " 'CHRIS/CME_KW1',\n",
       " 'CHRIS/CME_LB1',\n",
       " 'CHRIS/CME_LC1',\n",
       " 'CHRIS/CME_LN1',\n",
       " 'CHRIS/CME_MD1',\n",
       " 'CHRIS/CME_MP1',\n",
       " 'CHRIS/CME_NG1',\n",
       " 'CHRIS/CME_NG11',\n",
       " 'CHRIS/CME_NG21',\n",
       " 'CHRIS/CME_NG31',\n",
       " 'CHRIS/CME_NK1',\n",
       " 'CHRIS/CME_NQ1',\n",
       " 'CHRIS/CME_O1',\n",
       " 'CHRIS/CME_PA1',\n",
       " 'CHRIS/CME_PL1',\n",
       " 'CHRIS/CME_RR1',\n",
       " 'CHRIS/CME_S1',\n",
       " 'CHRIS/CME_SF1',\n",
       " 'CHRIS/CME_SI1',\n",
       " 'CHRIS/CME_SM1',\n",
       " 'CHRIS/CME_SP1',\n",
       " 'CHRIS/CME_TY1',\n",
       " 'CHRIS/CME_US1',\n",
       " 'CHRIS/CME_W1',\n",
       " 'CHRIS/EUREX_FGBM1',\n",
       " 'CHRIS/ICE_B1',\n",
       " 'CHRIS/ICE_B11',\n",
       " 'CHRIS/ICE_B21',\n",
       " 'CHRIS/ICE_B31',\n",
       " 'CHRIS/ICE_CC1',\n",
       " 'CHRIS/ICE_CT1',\n",
       " 'CHRIS/ICE_DX1',\n",
       " 'CHRIS/ICE_G1',\n",
       " 'CHRIS/ICE_G11',\n",
       " 'CHRIS/ICE_KC1',\n",
       " 'CHRIS/ICE_M1',\n",
       " 'CHRIS/ICE_OJ1',\n",
       " 'CHRIS/ICE_RS1',\n",
       " 'CHRIS/ICE_SB1',\n",
       " 'CHRIS/LIFFE_C1',\n",
       " 'CHRIS/LIFFE_L1',\n",
       " 'CHRIS/LIFFE_RC1',\n",
       " 'CHRIS/LIFFE_S1']"
      ]
     },
     "execution_count": 187,
     "metadata": {},
     "output_type": "execute_result"
    }
   ],
   "source": [
    "selected_symbols=[ u for u in US_Futures.list_symbols() if u[-1] == '1']\n",
    "selected_symbols"
   ]
  },
  {
   "cell_type": "code",
   "execution_count": 188,
   "metadata": {},
   "outputs": [
    {
     "data": {
      "text/plain": [
       "<matplotlib.axes._subplots.AxesSubplot at 0x7ff818095610>"
      ]
     },
     "execution_count": 188,
     "metadata": {},
     "output_type": "execute_result"
    },
    {
     "data": {
      "image/png": "[encoded data removed]",
      "text/plain": [
       "<Figure size 432x288 with 1 Axes>"
      ]
     },
     "metadata": {
      "needs_background": "light"
     },
     "output_type": "display_data"
    }
   ],
   "source": [
    "US_Futures.read('CHRIS/CME_FV1')['Close'].plot()"
   ]
  },
  {
   "cell_type": "code",
   "execution_count": 391,
   "metadata": {},
   "outputs": [
    {
     "data": {
      "text/html": [
       "<div>\n",
       "<style scoped>\n",
       "    .dataframe tbody tr th:only-of-type {\n",
       "        vertical-align: middle;\n",
       "    }\n",
       "\n",
       "    .dataframe tbody tr th {\n",
       "        vertical-align: top;\n",
       "    }\n",
       "\n",
       "    .dataframe thead th {\n",
       "        text-align: right;\n",
       "    }\n",
       "</style>\n",
       "<table border=\"1\" class=\"dataframe\">\n",
       "  <thead>\n",
       "    <tr style=\"text-align: right;\">\n",
       "      <th></th>\n",
       "      <th>Open</th>\n",
       "      <th>High</th>\n",
       "      <th>Low</th>\n",
       "      <th>Close</th>\n",
       "      <th>Volume</th>\n",
       "      <th>date</th>\n",
       "    </tr>\n",
       "    <tr>\n",
       "      <th>Datetime</th>\n",
       "      <th></th>\n",
       "      <th></th>\n",
       "      <th></th>\n",
       "      <th></th>\n",
       "      <th></th>\n",
       "      <th></th>\n",
       "    </tr>\n",
       "  </thead>\n",
       "  <tbody>\n",
       "    <tr>\n",
       "      <th>2019-10-15 13:31:00</th>\n",
       "      <td>-0.001798</td>\n",
       "      <td>-0.001798</td>\n",
       "      <td>-0.001236</td>\n",
       "      <td>-0.001405</td>\n",
       "      <td>-0.710496</td>\n",
       "      <td>2019-10-15 13:31:00</td>\n",
       "    </tr>\n",
       "    <tr>\n",
       "      <th>2019-10-15 13:32:00</th>\n",
       "      <td>0.000731</td>\n",
       "      <td>0.000731</td>\n",
       "      <td>0.000731</td>\n",
       "      <td>0.000731</td>\n",
       "      <td>-0.423120</td>\n",
       "      <td>2019-10-15 13:32:00</td>\n",
       "    </tr>\n",
       "    <tr>\n",
       "      <th>2019-10-15 13:33:00</th>\n",
       "      <td>-0.000562</td>\n",
       "      <td>-0.000056</td>\n",
       "      <td>-0.000562</td>\n",
       "      <td>-0.000506</td>\n",
       "      <td>1.955677</td>\n",
       "      <td>2019-10-15 13:33:00</td>\n",
       "    </tr>\n",
       "    <tr>\n",
       "      <th>2019-10-15 13:34:00</th>\n",
       "      <td>-0.000112</td>\n",
       "      <td>0.002021</td>\n",
       "      <td>-0.000112</td>\n",
       "      <td>0.001404</td>\n",
       "      <td>0.985140</td>\n",
       "      <td>2019-10-15 13:34:00</td>\n",
       "    </tr>\n",
       "    <tr>\n",
       "      <th>2019-10-15 13:35:00</th>\n",
       "      <td>0.001236</td>\n",
       "      <td>-0.001122</td>\n",
       "      <td>0.000731</td>\n",
       "      <td>-0.000056</td>\n",
       "      <td>-0.812040</td>\n",
       "      <td>2019-10-15 13:35:00</td>\n",
       "    </tr>\n",
       "    <tr>\n",
       "      <th>...</th>\n",
       "      <td>...</td>\n",
       "      <td>...</td>\n",
       "      <td>...</td>\n",
       "      <td>...</td>\n",
       "      <td>...</td>\n",
       "      <td>...</td>\n",
       "    </tr>\n",
       "    <tr>\n",
       "      <th>2020-10-13 18:33:00</th>\n",
       "      <td>0.000417</td>\n",
       "      <td>0.001717</td>\n",
       "      <td>0.000515</td>\n",
       "      <td>0.001815</td>\n",
       "      <td>0.352108</td>\n",
       "      <td>2020-10-13 18:33:00</td>\n",
       "    </tr>\n",
       "    <tr>\n",
       "      <th>2020-10-13 18:34:00</th>\n",
       "      <td>0.001202</td>\n",
       "      <td>-0.000098</td>\n",
       "      <td>0.000858</td>\n",
       "      <td>-0.000441</td>\n",
       "      <td>-0.388742</td>\n",
       "      <td>2020-10-13 18:34:00</td>\n",
       "    </tr>\n",
       "    <tr>\n",
       "      <th>2020-10-13 18:35:00</th>\n",
       "      <td>-0.000613</td>\n",
       "      <td>-0.000613</td>\n",
       "      <td>-0.000270</td>\n",
       "      <td>-0.000270</td>\n",
       "      <td>0.363986</td>\n",
       "      <td>2020-10-13 18:35:00</td>\n",
       "    </tr>\n",
       "    <tr>\n",
       "      <th>2020-10-13 18:36:00</th>\n",
       "      <td>-0.000564</td>\n",
       "      <td>-0.000564</td>\n",
       "      <td>-0.000760</td>\n",
       "      <td>-0.000760</td>\n",
       "      <td>-0.680266</td>\n",
       "      <td>2020-10-13 18:36:00</td>\n",
       "    </tr>\n",
       "    <tr>\n",
       "      <th>2020-10-13 18:37:00</th>\n",
       "      <td>-0.000736</td>\n",
       "      <td>-0.000736</td>\n",
       "      <td>-0.000540</td>\n",
       "      <td>-0.000540</td>\n",
       "      <td>-0.935240</td>\n",
       "      <td>2020-10-13 18:37:00</td>\n",
       "    </tr>\n",
       "  </tbody>\n",
       "</table>\n",
       "<p>86432 rows × 6 columns</p>\n",
       "</div>"
      ],
      "text/plain": [
       "                         Open      High       Low     Close    Volume  \\\n",
       "Datetime                                                                \n",
       "2019-10-15 13:31:00 -0.001798 -0.001798 -0.001236 -0.001405 -0.710496   \n",
       "2019-10-15 13:32:00  0.000731  0.000731  0.000731  0.000731 -0.423120   \n",
       "2019-10-15 13:33:00 -0.000562 -0.000056 -0.000562 -0.000506  1.955677   \n",
       "2019-10-15 13:34:00 -0.000112  0.002021 -0.000112  0.001404  0.985140   \n",
       "2019-10-15 13:35:00  0.001236 -0.001122  0.000731 -0.000056 -0.812040   \n",
       "...                       ...       ...       ...       ...       ...   \n",
       "2020-10-13 18:33:00  0.000417  0.001717  0.000515  0.001815  0.352108   \n",
       "2020-10-13 18:34:00  0.001202 -0.000098  0.000858 -0.000441 -0.388742   \n",
       "2020-10-13 18:35:00 -0.000613 -0.000613 -0.000270 -0.000270  0.363986   \n",
       "2020-10-13 18:36:00 -0.000564 -0.000564 -0.000760 -0.000760 -0.680266   \n",
       "2020-10-13 18:37:00 -0.000736 -0.000736 -0.000540 -0.000540 -0.935240   \n",
       "\n",
       "                                   date  \n",
       "Datetime                                 \n",
       "2019-10-15 13:31:00 2019-10-15 13:31:00  \n",
       "2019-10-15 13:32:00 2019-10-15 13:32:00  \n",
       "2019-10-15 13:33:00 2019-10-15 13:33:00  \n",
       "2019-10-15 13:34:00 2019-10-15 13:34:00  \n",
       "2019-10-15 13:35:00 2019-10-15 13:35:00  \n",
       "...                                 ...  \n",
       "2020-10-13 18:33:00 2020-10-13 18:33:00  \n",
       "2020-10-13 18:34:00 2020-10-13 18:34:00  \n",
       "2020-10-13 18:35:00 2020-10-13 18:35:00  \n",
       "2020-10-13 18:36:00 2020-10-13 18:36:00  \n",
       "2020-10-13 18:37:00 2020-10-13 18:37:00  \n",
       "\n",
       "[86432 rows x 6 columns]"
      ]
     },
     "execution_count": 391,
     "metadata": {},
     "output_type": "execute_result"
    }
   ],
   "source": [
    "US_Equity2.read('V')"
   ]
  },
  {
   "cell_type": "code",
   "execution_count": null,
   "metadata": {},
   "outputs": [],
   "source": [
    "df1 = US_Equity.read('GS').set_index('date')\n",
    "df2 = US_Equity.read('AAPL').set_index('date')"
   ]
  },
  {
   "cell_type": "code",
   "execution_count": null,
   "metadata": {},
   "outputs": [],
   "source": [
    "df1.merge(df2,how='outer',on='date')"
   ]
  },
  {
   "cell_type": "code",
   "execution_count": null,
   "metadata": {},
   "outputs": [],
   "source": [
    "merged_df = df1.merge(df2,how='outer',on='date').merge(df2,how='outer',on='date').sort_values(by='date').fillna(0)"
   ]
  },
  {
   "cell_type": "code",
   "execution_count": null,
   "metadata": {},
   "outputs": [],
   "source": [
    "price_tensor = np.zeros(shape=(merged_df.shape[0],5,int(merged_df.shape[1]/5)))"
   ]
  },
  {
   "cell_type": "code",
   "execution_count": null,
   "metadata": {},
   "outputs": [],
   "source": [
    "price_tensor.shape"
   ]
  },
  {
   "cell_type": "code",
   "execution_count": null,
   "metadata": {},
   "outputs": [],
   "source": [
    "for count in range(int(merged_df.shape[1]/5)):\n",
    "    price_tensor[:,:,count] = merged_df.values[:,5*count:5*count+5]"
   ]
  },
  {
   "cell_type": "code",
   "execution_count": null,
   "metadata": {},
   "outputs": [],
   "source": []
  },
  {
   "cell_type": "code",
   "execution_count": null,
   "metadata": {},
   "outputs": [],
   "source": []
  },
  {
   "cell_type": "code",
   "execution_count": null,
   "metadata": {},
   "outputs": [],
   "source": []
  },
  {
   "cell_type": "code",
   "execution_count": 4,
   "metadata": {},
   "outputs": [],
   "source": [
    "import pandas as pd\n",
    "import numpy as np\n",
    "\n"
   ]
  },
  {
   "cell_type": "code",
   "execution_count": 5,
   "metadata": {},
   "outputs": [],
   "source": [
    "def create_features(all_data_df):\n",
    "\n",
    "    all_data_df['dollarvolume'] = all_data_df['volume'] * all_data_df['close']\n",
    "    all_data_df['dollarvolume_ratio'] = all_data_df['dollarvolume'] / all_data_df['dollarvolume'].shift(1)\n",
    "    all_data_df['volume_total_adj'] = all_data_df['volume_total'] / all_data_df['cfadj'].shift(1)\n",
    "    all_data_df['OI_total_adj'] = all_data_df['OI_total'] / all_data_df['cfadj'].shift(1)\n",
    "    all_data_df['optionvolume_ratio'] = all_data_df['volume_total_adj'] / all_data_df['volume_total_adj'].shift(1)\n",
    "    all_data_df['optionOI_ratio'] = all_data_df['OI_total_adj'] / all_data_df['OI_total_adj'].shift(1)\n",
    "\n",
    "    # put call ratios \n",
    "    all_data_df['put_call_volume'] = all_data_df['volume_put'] / all_data_df['volume_call']\n",
    "    all_data_df['put_call_OI'] = all_data_df['OI_put'] / all_data_df['OI_call'] \n",
    "\n",
    "\n",
    "    # intraday range \n",
    "    all_data_df['open_close'] = all_data_df['open'] / all_data_df['close']\n",
    "    all_data_df['high_close'] = all_data_df['high'] / all_data_df['close']  \n",
    "    all_data_df['low_close'] = all_data_df['low'] / all_data_df['close']  \n",
    "\n",
    "    # returns \n",
    "    # Rolling calculations of the last 25 days for each stock uses data from other stocks which needs to be removed\n",
    "    all_data_df['adjclose'] = all_data_df['close'] * all_data_df['cfret'] \n",
    "    all_data_df['logreturn'] = np.log(all_data_df['adjclose']) - np.log(all_data_df['adjclose'].shift(1))\n",
    "    all_data_df['target_1'] = np.log(all_data_df['adjclose'].shift(-2)) - np.log(all_data_df['adjclose'].shift(-1))\n",
    "    all_data_df['target_5'] = np.log(all_data_df['adjclose'].shift(-6)) - np.log(all_data_df['adjclose'].shift(-1))\n",
    "    all_data_df['target_10'] = np.log(all_data_df['adjclose'].shift(-11)) - np.log(all_data_df['adjclose'].shift(-1))\n",
    "    all_data_df['target_20'] = np.log(all_data_df['adjclose'].shift(-21)) - np.log(all_data_df['adjclose'].shift(-1))\n",
    "    \n",
    "    return all_data_df"
   ]
  },
  {
   "cell_type": "code",
   "execution_count": 23,
   "metadata": {},
   "outputs": [],
   "source": [
    "df = pd.read_csv('csvdata/OM/2581610.csv')\n",
    "df = create_features(df)\n",
    "df.to_csv('csvdata/OM/2581610.csv',index=False)"
   ]
  },
  {
   "cell_type": "code",
   "execution_count": 24,
   "metadata": {},
   "outputs": [
    {
     "data": {
      "text/html": [
       "<div>\n",
       "<style scoped>\n",
       "    .dataframe tbody tr th:only-of-type {\n",
       "        vertical-align: middle;\n",
       "    }\n",
       "\n",
       "    .dataframe tbody tr th {\n",
       "        vertical-align: top;\n",
       "    }\n",
       "\n",
       "    .dataframe thead th {\n",
       "        text-align: right;\n",
       "    }\n",
       "</style>\n",
       "<table border=\"1\" class=\"dataframe\">\n",
       "  <thead>\n",
       "    <tr style=\"text-align: right;\">\n",
       "      <th></th>\n",
       "      <th>cusip</th>\n",
       "      <th>date</th>\n",
       "      <th>low</th>\n",
       "      <th>high</th>\n",
       "      <th>close</th>\n",
       "      <th>open</th>\n",
       "      <th>volume</th>\n",
       "      <th>cfadj</th>\n",
       "      <th>cfret</th>\n",
       "      <th>volume_total</th>\n",
       "      <th>...</th>\n",
       "      <th>low_close</th>\n",
       "      <th>adjclose</th>\n",
       "      <th>logreturn</th>\n",
       "      <th>target_1</th>\n",
       "      <th>target_2</th>\n",
       "      <th>target_3</th>\n",
       "      <th>day</th>\n",
       "      <th>target_5</th>\n",
       "      <th>target_10</th>\n",
       "      <th>target_20</th>\n",
       "    </tr>\n",
       "  </thead>\n",
       "  <tbody>\n",
       "    <tr>\n",
       "      <th>0</th>\n",
       "      <td>2581610</td>\n",
       "      <td>1996-01-04</td>\n",
       "      <td>41.000</td>\n",
       "      <td>42.125</td>\n",
       "      <td>41.125</td>\n",
       "      <td>41.875</td>\n",
       "      <td>1491400.0</td>\n",
       "      <td>1.0</td>\n",
       "      <td>1.005422</td>\n",
       "      <td>2120.0</td>\n",
       "      <td>...</td>\n",
       "      <td>0.996960</td>\n",
       "      <td>41.347980</td>\n",
       "      <td>NaN</td>\n",
       "      <td>0.000000</td>\n",
       "      <td>0.018127</td>\n",
       "      <td>0.084722</td>\n",
       "      <td>0.0</td>\n",
       "      <td>-0.050010</td>\n",
       "      <td>0.044717</td>\n",
       "      <td>0.087519</td>\n",
       "    </tr>\n",
       "    <tr>\n",
       "      <th>1</th>\n",
       "      <td>2581610</td>\n",
       "      <td>1996-01-05</td>\n",
       "      <td>40.750</td>\n",
       "      <td>41.375</td>\n",
       "      <td>41.000</td>\n",
       "      <td>41.125</td>\n",
       "      <td>1223600.0</td>\n",
       "      <td>1.0</td>\n",
       "      <td>1.005422</td>\n",
       "      <td>1324.0</td>\n",
       "      <td>...</td>\n",
       "      <td>0.993902</td>\n",
       "      <td>41.222302</td>\n",
       "      <td>-0.003044</td>\n",
       "      <td>-0.015361</td>\n",
       "      <td>0.044717</td>\n",
       "      <td>0.087519</td>\n",
       "      <td>1.0</td>\n",
       "      <td>-0.056441</td>\n",
       "      <td>0.041797</td>\n",
       "      <td>0.104140</td>\n",
       "    </tr>\n",
       "    <tr>\n",
       "      <th>2</th>\n",
       "      <td>2581610</td>\n",
       "      <td>1996-01-08</td>\n",
       "      <td>41.000</td>\n",
       "      <td>41.250</td>\n",
       "      <td>41.000</td>\n",
       "      <td>41.000</td>\n",
       "      <td>303600.0</td>\n",
       "      <td>1.0</td>\n",
       "      <td>1.005422</td>\n",
       "      <td>446.0</td>\n",
       "      <td>...</td>\n",
       "      <td>1.000000</td>\n",
       "      <td>41.222302</td>\n",
       "      <td>0.000000</td>\n",
       "      <td>-0.034649</td>\n",
       "      <td>0.057158</td>\n",
       "      <td>0.119502</td>\n",
       "      <td>4.0</td>\n",
       "      <td>-0.018751</td>\n",
       "      <td>0.027483</td>\n",
       "      <td>0.119502</td>\n",
       "    </tr>\n",
       "    <tr>\n",
       "      <th>3</th>\n",
       "      <td>2581610</td>\n",
       "      <td>1996-01-09</td>\n",
       "      <td>40.375</td>\n",
       "      <td>41.375</td>\n",
       "      <td>40.375</td>\n",
       "      <td>41.250</td>\n",
       "      <td>1298500.0</td>\n",
       "      <td>1.0</td>\n",
       "      <td>1.005422</td>\n",
       "      <td>594.0</td>\n",
       "      <td>...</td>\n",
       "      <td>1.000000</td>\n",
       "      <td>40.593913</td>\n",
       "      <td>-0.015361</td>\n",
       "      <td>0.012739</td>\n",
       "      <td>0.062132</td>\n",
       "      <td>0.154151</td>\n",
       "      <td>5.0</td>\n",
       "      <td>0.034649</td>\n",
       "      <td>0.046957</td>\n",
       "      <td>0.162359</td>\n",
       "    </tr>\n",
       "    <tr>\n",
       "      <th>4</th>\n",
       "      <td>2581610</td>\n",
       "      <td>1996-01-10</td>\n",
       "      <td>38.750</td>\n",
       "      <td>40.250</td>\n",
       "      <td>39.000</td>\n",
       "      <td>40.125</td>\n",
       "      <td>2455000.0</td>\n",
       "      <td>1.0</td>\n",
       "      <td>1.005422</td>\n",
       "      <td>2624.0</td>\n",
       "      <td>...</td>\n",
       "      <td>0.993590</td>\n",
       "      <td>39.211458</td>\n",
       "      <td>-0.034649</td>\n",
       "      <td>-0.012739</td>\n",
       "      <td>0.034218</td>\n",
       "      <td>0.149620</td>\n",
       "      <td>6.0</td>\n",
       "      <td>0.055399</td>\n",
       "      <td>0.031155</td>\n",
       "      <td>0.181794</td>\n",
       "    </tr>\n",
       "    <tr>\n",
       "      <th>...</th>\n",
       "      <td>...</td>\n",
       "      <td>...</td>\n",
       "      <td>...</td>\n",
       "      <td>...</td>\n",
       "      <td>...</td>\n",
       "      <td>...</td>\n",
       "      <td>...</td>\n",
       "      <td>...</td>\n",
       "      <td>...</td>\n",
       "      <td>...</td>\n",
       "      <td>...</td>\n",
       "      <td>...</td>\n",
       "      <td>...</td>\n",
       "      <td>...</td>\n",
       "      <td>...</td>\n",
       "      <td>...</td>\n",
       "      <td>...</td>\n",
       "      <td>...</td>\n",
       "      <td>...</td>\n",
       "      <td>...</td>\n",
       "      <td>...</td>\n",
       "    </tr>\n",
       "    <tr>\n",
       "      <th>6035</th>\n",
       "      <td>2581610</td>\n",
       "      <td>2019-12-24</td>\n",
       "      <td>124.380</td>\n",
       "      <td>125.330</td>\n",
       "      <td>124.740</td>\n",
       "      <td>124.950</td>\n",
       "      <td>953540.0</td>\n",
       "      <td>3.0</td>\n",
       "      <td>4.701604</td>\n",
       "      <td>3483.0</td>\n",
       "      <td>...</td>\n",
       "      <td>0.997114</td>\n",
       "      <td>586.478083</td>\n",
       "      <td>0.002006</td>\n",
       "      <td>-0.001756</td>\n",
       "      <td>NaN</td>\n",
       "      <td>NaN</td>\n",
       "      <td>8755.0</td>\n",
       "      <td>NaN</td>\n",
       "      <td>NaN</td>\n",
       "      <td>NaN</td>\n",
       "    </tr>\n",
       "    <tr>\n",
       "      <th>6036</th>\n",
       "      <td>2581610</td>\n",
       "      <td>2019-12-26</td>\n",
       "      <td>124.530</td>\n",
       "      <td>125.437</td>\n",
       "      <td>125.410</td>\n",
       "      <td>124.980</td>\n",
       "      <td>1487824.0</td>\n",
       "      <td>3.0</td>\n",
       "      <td>4.701604</td>\n",
       "      <td>5445.0</td>\n",
       "      <td>...</td>\n",
       "      <td>0.992983</td>\n",
       "      <td>589.628158</td>\n",
       "      <td>0.005357</td>\n",
       "      <td>-0.007135</td>\n",
       "      <td>NaN</td>\n",
       "      <td>NaN</td>\n",
       "      <td>8757.0</td>\n",
       "      <td>NaN</td>\n",
       "      <td>NaN</td>\n",
       "      <td>NaN</td>\n",
       "    </tr>\n",
       "    <tr>\n",
       "      <th>6037</th>\n",
       "      <td>2581610</td>\n",
       "      <td>2019-12-27</td>\n",
       "      <td>125.110</td>\n",
       "      <td>125.970</td>\n",
       "      <td>125.190</td>\n",
       "      <td>125.840</td>\n",
       "      <td>1788623.0</td>\n",
       "      <td>3.0</td>\n",
       "      <td>4.701604</td>\n",
       "      <td>4921.0</td>\n",
       "      <td>...</td>\n",
       "      <td>0.999361</td>\n",
       "      <td>588.593805</td>\n",
       "      <td>-0.001756</td>\n",
       "      <td>0.001527</td>\n",
       "      <td>NaN</td>\n",
       "      <td>NaN</td>\n",
       "      <td>8758.0</td>\n",
       "      <td>NaN</td>\n",
       "      <td>NaN</td>\n",
       "      <td>NaN</td>\n",
       "    </tr>\n",
       "    <tr>\n",
       "      <th>6038</th>\n",
       "      <td>2581610</td>\n",
       "      <td>2019-12-30</td>\n",
       "      <td>124.180</td>\n",
       "      <td>125.460</td>\n",
       "      <td>124.300</td>\n",
       "      <td>125.200</td>\n",
       "      <td>2306455.0</td>\n",
       "      <td>3.0</td>\n",
       "      <td>4.701604</td>\n",
       "      <td>10125.0</td>\n",
       "      <td>...</td>\n",
       "      <td>0.999035</td>\n",
       "      <td>584.409377</td>\n",
       "      <td>-0.007135</td>\n",
       "      <td>NaN</td>\n",
       "      <td>NaN</td>\n",
       "      <td>NaN</td>\n",
       "      <td>8761.0</td>\n",
       "      <td>NaN</td>\n",
       "      <td>NaN</td>\n",
       "      <td>NaN</td>\n",
       "    </tr>\n",
       "    <tr>\n",
       "      <th>6039</th>\n",
       "      <td>2581610</td>\n",
       "      <td>2019-12-31</td>\n",
       "      <td>123.780</td>\n",
       "      <td>124.574</td>\n",
       "      <td>124.490</td>\n",
       "      <td>124.290</td>\n",
       "      <td>2340392.0</td>\n",
       "      <td>3.0</td>\n",
       "      <td>4.701604</td>\n",
       "      <td>35341.0</td>\n",
       "      <td>...</td>\n",
       "      <td>0.994297</td>\n",
       "      <td>585.302682</td>\n",
       "      <td>0.001527</td>\n",
       "      <td>NaN</td>\n",
       "      <td>NaN</td>\n",
       "      <td>NaN</td>\n",
       "      <td>8762.0</td>\n",
       "      <td>NaN</td>\n",
       "      <td>NaN</td>\n",
       "      <td>NaN</td>\n",
       "    </tr>\n",
       "  </tbody>\n",
       "</table>\n",
       "<p>6040 rows × 137 columns</p>\n",
       "</div>"
      ],
      "text/plain": [
       "        cusip        date      low     high    close     open     volume  \\\n",
       "0     2581610  1996-01-04   41.000   42.125   41.125   41.875  1491400.0   \n",
       "1     2581610  1996-01-05   40.750   41.375   41.000   41.125  1223600.0   \n",
       "2     2581610  1996-01-08   41.000   41.250   41.000   41.000   303600.0   \n",
       "3     2581610  1996-01-09   40.375   41.375   40.375   41.250  1298500.0   \n",
       "4     2581610  1996-01-10   38.750   40.250   39.000   40.125  2455000.0   \n",
       "...       ...         ...      ...      ...      ...      ...        ...   \n",
       "6035  2581610  2019-12-24  124.380  125.330  124.740  124.950   953540.0   \n",
       "6036  2581610  2019-12-26  124.530  125.437  125.410  124.980  1487824.0   \n",
       "6037  2581610  2019-12-27  125.110  125.970  125.190  125.840  1788623.0   \n",
       "6038  2581610  2019-12-30  124.180  125.460  124.300  125.200  2306455.0   \n",
       "6039  2581610  2019-12-31  123.780  124.574  124.490  124.290  2340392.0   \n",
       "\n",
       "      cfadj     cfret  volume_total  ...  low_close    adjclose  logreturn  \\\n",
       "0       1.0  1.005422        2120.0  ...   0.996960   41.347980        NaN   \n",
       "1       1.0  1.005422        1324.0  ...   0.993902   41.222302  -0.003044   \n",
       "2       1.0  1.005422         446.0  ...   1.000000   41.222302   0.000000   \n",
       "3       1.0  1.005422         594.0  ...   1.000000   40.593913  -0.015361   \n",
       "4       1.0  1.005422        2624.0  ...   0.993590   39.211458  -0.034649   \n",
       "...     ...       ...           ...  ...        ...         ...        ...   \n",
       "6035    3.0  4.701604        3483.0  ...   0.997114  586.478083   0.002006   \n",
       "6036    3.0  4.701604        5445.0  ...   0.992983  589.628158   0.005357   \n",
       "6037    3.0  4.701604        4921.0  ...   0.999361  588.593805  -0.001756   \n",
       "6038    3.0  4.701604       10125.0  ...   0.999035  584.409377  -0.007135   \n",
       "6039    3.0  4.701604       35341.0  ...   0.994297  585.302682   0.001527   \n",
       "\n",
       "      target_1  target_2  target_3     day  target_5  target_10  target_20  \n",
       "0     0.000000  0.018127  0.084722     0.0 -0.050010   0.044717   0.087519  \n",
       "1    -0.015361  0.044717  0.087519     1.0 -0.056441   0.041797   0.104140  \n",
       "2    -0.034649  0.057158  0.119502     4.0 -0.018751   0.027483   0.119502  \n",
       "3     0.012739  0.062132  0.154151     5.0  0.034649   0.046957   0.162359  \n",
       "4    -0.012739  0.034218  0.149620     6.0  0.055399   0.031155   0.181794  \n",
       "...        ...       ...       ...     ...       ...        ...        ...  \n",
       "6035 -0.001756       NaN       NaN  8755.0       NaN        NaN        NaN  \n",
       "6036 -0.007135       NaN       NaN  8757.0       NaN        NaN        NaN  \n",
       "6037  0.001527       NaN       NaN  8758.0       NaN        NaN        NaN  \n",
       "6038       NaN       NaN       NaN  8761.0       NaN        NaN        NaN  \n",
       "6039       NaN       NaN       NaN  8762.0       NaN        NaN        NaN  \n",
       "\n",
       "[6040 rows x 137 columns]"
      ]
     },
     "execution_count": 24,
     "metadata": {},
     "output_type": "execute_result"
    }
   ],
   "source": [
    "df"
   ]
  },
  {
   "cell_type": "code",
   "execution_count": null,
   "metadata": {},
   "outputs": [],
   "source": []
  }
 ],
 "metadata": {
  "kernelspec": {
   "display_name": "Python 3",
   "language": "python",
   "name": "python3"
  },
  "language_info": {
   "codemirror_mode": {
    "name": "ipython",
    "version": 3
   },
   "file_extension": ".py",
   "mimetype": "text/x-python",
   "name": "python",
   "nbconvert_exporter": "python",
   "pygments_lexer": "ipython3",
   "version": "3.8.3"
  }
 },
 "nbformat": 4,
 "nbformat_minor": 4
}
